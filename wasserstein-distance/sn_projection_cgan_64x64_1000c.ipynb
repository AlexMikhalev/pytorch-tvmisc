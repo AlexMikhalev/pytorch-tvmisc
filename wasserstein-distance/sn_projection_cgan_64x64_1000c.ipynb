{
 "cells": [
  {
   "cell_type": "markdown",
   "metadata": {},
   "source": [
    "# Spectral normalization GAN with categorical projection conditioning\n",
    "*Thomas Viehmann <tv@lernapparat.de>*\n",
    "\n",
    "# This is work in progress, i.e. it probably doesn't work\n",
    "\n",
    "Spectral Normalization GANs are an exiting new regularization method that approximates the Wasserstein loss as a discriminator function. The authors also demonstrated the capabilities of a projection method for the discriminator - generating images for all 1000 imagenet (LSVRC2012) categories. We implement the smaller 64x64 pixel variant.\n",
    "One of the crucial ingredients on the side of the Generator is a Conditional Batch Norm that enables learning a class-specific multiplier and bias.\n",
    "\n",
    "This repository\n",
    "- is a straightforward adaptation of the [official chainer-based implementation in the 64x64 case](https://github.com/pfnet-research/sngan_projection)\n",
    "- PyTorch's [spectral_norm](https://pytorch.org/docs/master/nn.html#torch.nn.utils.spectral_norm) implementation\n",
    "- a custom Conditional Batch Norm modelled after the above official implementation but in a PyTorch-style way (see below)\n",
    "- Python 3 and PyTorch / master + [PR 9020](https://github.com/pytorch/pytorch/pull/9020)\n",
    "\n",
    "First let's import something:"
   ]
  },
  {
   "cell_type": "code",
   "execution_count": 34,
   "metadata": {},
   "outputs": [],
   "source": [
    "import torch\n",
    "import torch.utils.data\n",
    "import torchvision\n",
    "import os\n",
    "import matplotlib\n",
    "\n",
    "try: # We want to have headless support after converting to .py\n",
    "    %matplotlib inline\n",
    "except:\n",
    "    matplotlib.use('Agg')\n",
    "from matplotlib import pyplot\n",
    "\n",
    "import time"
   ]
  },
  {
   "cell_type": "markdown",
   "metadata": {},
   "source": [
    "## Conditional Batch Norm\n",
    "\n",
    "Here is the promised conditional batch norm. It aims to be compatible in functionality [to the SN-GAN author's version](https://github.com/pfnet-research/sngan_projection), the original reference seems to be [de Vries et. al., Modulating early visual processing by language](https://arxiv.org/abs/1707.00683).\n",
    "\n",
    "It works pretty much like [regular batch norm](https://pytorch.org/docs/master/nn.html#torch.nn.BatchNorm2d) *except* that it has a per-class weight $\\gamma$ and bias $\\beta$.\n",
    "In particular, note that the input mean and variance (to be \"cleaned\") and the running statistics are *not* class dependent. (Of course, one might wonder whether it should, but that is for another day...)\n",
    "\n",
    "There also is a conditional instance norm, (which would resolve the input that the statistics being generated accross classes during training, but not during evaluation)."
   ]
  },
  {
   "cell_type": "code",
   "execution_count": 35,
   "metadata": {},
   "outputs": [],
   "source": [
    "class BatchNorm2d(torch.nn.BatchNorm2d):\n",
    "    def reset_parameters(self):\n",
    "        self.reset_running_stats()\n",
    "        if self.affine:\n",
    "            self.weight.data.fill_(1.0)\n",
    "            self.bias.data.zero_()\n",
    "\n",
    "class CategoricalConditionalBatchNorm(torch.nn.Module):\n",
    "    # as in the chainer SN-GAN implementation , we keep per-cat XXX.\n",
    "    # I should care more about accreal\n",
    "    def __init__(self, num_features, num_cats, eps=1e-5, momentum=0.1, affine=True,\n",
    "                 track_running_stats=True):\n",
    "        super().__init__()\n",
    "        self.num_features = num_features\n",
    "        self.num_cats = num_cats\n",
    "        self.eps = eps\n",
    "        self.momentum = momentum\n",
    "        self.affine = affine\n",
    "        self.track_running_stats = track_running_stats\n",
    "        if self.affine:\n",
    "            self.weight = torch.nn.Parameter(torch.Tensor(num_cats, num_features))\n",
    "            self.bias = torch.nn.Parameter(torch.Tensor(num_cats, num_features))\n",
    "        else:\n",
    "            self.rsegister_parameter('weight', None)\n",
    "            self.register_parameter('bias', None)\n",
    "        if self.track_running_stats:\n",
    "            self.register_buffer('running_mean', torch.zeros(num_features))\n",
    "            self.register_buffer('running_var', torch.ones(num_features))\n",
    "            self.register_buffer('num_batches_tracked', torch.tensor(0, dtype=torch.long))\n",
    "        else:\n",
    "            self.register_parameter('running_mean', None)\n",
    "            self.register_parameter('running_var', None)\n",
    "            self.register_parameter('num_batches_tracked', None)\n",
    "        self.reset_parameters()\n",
    "\n",
    "    def reset_running_stats(self):\n",
    "        if self.track_running_stats:\n",
    "            self.running_mean.zero_()\n",
    "            self.running_var.fill_(1)\n",
    "            self.num_batches_tracked.zero_()\n",
    "\n",
    "    def reset_parameters(self):\n",
    "        self.reset_running_stats()\n",
    "        if self.affine:\n",
    "            self.weight.data.fill_(1.0)\n",
    "            self.bias.data.zero_()\n",
    "\n",
    "    def _check_input_dim(self, input):\n",
    "        raise NotImplementedError\n",
    "\n",
    "    def forward(self, input, cats):\n",
    "        #self._check_input_dim(input)\n",
    "\n",
    "        exponential_average_factor = 0.0\n",
    "\n",
    "        if self.training and self.track_running_stats:\n",
    "            self.num_batches_tracked += 1\n",
    "            if self.momentum is None:  # use cumulative moving average\n",
    "                exponential_average_factor = 1.0 / self.num_batches_tracked.item()\n",
    "            else:  # use exponential moving average\n",
    "                exponential_average_factor = self.momentum\n",
    "\n",
    "        n = input.size(0)\n",
    "        numel_per_feature = input.numel()/input.size(1)\n",
    "        if self.training or not self.track_running_stats:\n",
    "            with torch.no_grad():\n",
    "                m = input\n",
    "                for d in range(input.dim()):\n",
    "                    if d != 1:\n",
    "                        m = m.mean(d, keepdim=True)\n",
    "                v = (input-m).pow_(2)\n",
    "                for d in range(input.dim()):\n",
    "                    if d != 1:\n",
    "                        v = v.mean(d, keepdim=True)\n",
    "                unbiased_var_update = (v * (numel_per_feature / (numel_per_feature - 1.0))).squeeze_().mul_(exponential_average_factor)\n",
    "\n",
    "                if self.track_running_stats:\n",
    "                    self.running_var *= (1 - exponential_average_factor)\n",
    "                    self.running_var += unbiased_var_update\n",
    "                    self.running_mean *= (1 - exponential_average_factor)\n",
    "                    self.running_mean += exponential_average_factor * m.squeeze()\n",
    "        else:\n",
    "            shape = [1, -1] + (input.dim() - 2) * [1]\n",
    "            v = self.running_var.detach().view(shape)\n",
    "            m = self.running_mean.detach().view(shape)\n",
    "            \n",
    "\n",
    "        x = (input - m) / (v + self.eps).sqrt_()\n",
    "        \n",
    "        if self.affine:\n",
    "            shape = [n, -1] + (input.dim() - 2) * [1]\n",
    "            weight = self.weight.index_select(0, cats).view(shape)\n",
    "            bias = self.bias.index_select(0, cats).view(shape)\n",
    "            x = x * weight + bias\n",
    "        return x\n",
    "\n",
    "    def extra_repr(self):\n",
    "        return '{num_features}, num_cats={num_cats}, eps={eps}, momentum={momentum}, affine={affine}, ' \\\n",
    "               'track_running_stats={track_running_stats}'.format(**self.__dict__)\n",
    "\n"
   ]
  },
  {
   "cell_type": "markdown",
   "metadata": {},
   "source": [
    "## Generator\n",
    "\n",
    "With that, we can define the generator."
   ]
  },
  {
   "cell_type": "code",
   "execution_count": 36,
   "metadata": {},
   "outputs": [],
   "source": [
    "\n",
    "class ResGenBlock(torch.nn.Module):\n",
    "    def __init__(self, in_channels, out_channels, hidden_channels=None, ksize=3, pad=1,\n",
    "                 activation=torch.nn.functional.relu, upsample=False, n_classes=0):\n",
    "        super().__init__()\n",
    "        self.activation = activation\n",
    "        self.upsample = upsample\n",
    "        self.learnable_sc = in_channels != out_channels or upsample\n",
    "        hidden_channels = out_channels if hidden_channels is None else hidden_channels\n",
    "        self.n_classes = n_classes\n",
    "        self.c1 = torch.nn.Conv2d(in_channels, hidden_channels, ksize, padding=pad)\n",
    "        torch.nn.init.xavier_uniform_(self.c1.weight, gain=(2**0.5))\n",
    "        torch.nn.init.zeros_(self.c1.bias)\n",
    "        self.c2 = torch.nn.Conv2d(hidden_channels, out_channels, ksize, padding=pad)\n",
    "        torch.nn.init.xavier_uniform_(self.c2.weight, gain=(2**0.5))\n",
    "        torch.nn.init.zeros_(self.c2.bias)\n",
    "        if n_classes > 0:\n",
    "            self.b1 = CategoricalConditionalBatchNorm(in_channels, n_classes)\n",
    "            self.b2 = CategoricalConditionalBatchNorm(hidden_channels, n_classes)\n",
    "        else:\n",
    "            self.b1 = BatchNorm2d(in_channels)\n",
    "            self.b2 = BatchNorm2d(hidden_channels)\n",
    "        if self.learnable_sc:\n",
    "            self.c_sc = torch.nn.Conv2d(in_channels, out_channels, 1, padding=0)\n",
    "            torch.nn.init.xavier_uniform_(self.c_sc.weight)\n",
    "            torch.nn.init.zeros_(self.c_sc.bias)\n",
    "\n",
    "    def forward(self, x, y=None, DEBUG=None, debugname=\"ResGenBlock\"):\n",
    "        h = x\n",
    "        if DEBUG is not None: DEBUG[debugname+'.inp'] = h.detach().cpu()\n",
    "        h = self.b1(h, y) if y is not None else self.b1(h)\n",
    "        if DEBUG is not None: DEBUG[debugname+'.b1'] = h.detach().cpu()\n",
    "        h = self.activation(h)\n",
    "        if DEBUG is not None: DEBUG[debugname+'.a1'] = h.detach().cpu()\n",
    "        if self.upsample:\n",
    "            h = torch.nn.functional.upsample(h, scale_factor=2)\n",
    "        h = self.c1(h)\n",
    "        if DEBUG is not None: DEBUG[debugname+'.c1'] = h.detach().cpu()\n",
    "        h = self.b2(h, y) if y is not None else self.b2(h)\n",
    "        if DEBUG is not None: DEBUG[debugname+'.b2'] = h.detach().cpu()\n",
    "        h = self.activation(h)\n",
    "        if DEBUG is not None: DEBUG[debugname+'.a2'] = h.detach().cpu()\n",
    "        h = self.c2(h)\n",
    "        if DEBUG is not None: DEBUG[debugname+'.c2'] = h.detach().cpu()\n",
    "        if self.learnable_sc:\n",
    "            if self.upsample:\n",
    "                x = torch.nn.functional.upsample(x, scale_factor=2)\n",
    "            sc = self.c_sc(x)\n",
    "            if DEBUG is not None: DEBUG[debugname+'.sc'] = h.detach().cpu()\n",
    "        else:\n",
    "            sc = x\n",
    "        return h + sc\n",
    "\n",
    "\n",
    "class ResNetGenerator(torch.nn.Module):\n",
    "    def __init__(self, ch=64, dim_z=128, bottom_width=4, activation=torch.nn.functional.relu, n_classes=0, distribution=\"normal\"):\n",
    "        super().__init__()\n",
    "        self.bottom_width = bottom_width\n",
    "        self.activation = activation\n",
    "        self.distribution = distribution\n",
    "        self.dim_z = dim_z\n",
    "        self.n_classes = n_classes\n",
    "        self.l1 = torch.nn.Linear(dim_z, (bottom_width ** 2) * ch * 16)\n",
    "        torch.nn.init.xavier_uniform_(self.l1.weight)\n",
    "        torch.nn.init.zeros_(self.l1.bias)\n",
    "        self.block2 = ResGenBlock(ch * 16, ch * 8, activation=activation, upsample=True, n_classes=n_classes)\n",
    "        self.block3 = ResGenBlock(ch * 8, ch * 4, activation=activation, upsample=True, n_classes=n_classes)\n",
    "        self.block4 = ResGenBlock(ch * 4, ch * 2, activation=activation, upsample=True, n_classes=n_classes)\n",
    "        self.block5 = ResGenBlock(ch * 2, ch, activation=activation, upsample=True, n_classes=n_classes)\n",
    "        self.b6 = BatchNorm2d(ch)\n",
    "        self.l6 = torch.nn.Conv2d(ch, 3, 3, stride=1, padding=1)\n",
    "        torch.nn.init.xavier_uniform_(self.l6.weight)\n",
    "        torch.nn.init.zeros_(self.l6.bias)\n",
    "\n",
    "    def forward(self, batchsize=64, z=None, y=None, DEBUG=None, debugname=\"generator\"):\n",
    "        anyparam = next(self.parameters())\n",
    "        if z is None:\n",
    "            z = torch.randn(batchsize, self.dim_z, dtype=anyparam.dtype, device=anyparam.device)\n",
    "        if y is None and self.n_classes > 0:\n",
    "            y = torch.randint(0, self.n_classes, (batchsize,), device=anyparam.device, dtype=torch.long)\n",
    "        if (y is not None) and z.shape[0] != y.shape[0]:\n",
    "            raise Exception('z.shape[0] != y.shape[0], z.shape[0]={}, y.shape[0]={}'.format(z.shape[0], y.shape[0]))\n",
    "        if DEBUG is not None: DEBUG[debugname+'.y'] = y.detach().cpu()\n",
    "        if DEBUG is not None: DEBUG[debugname+'.z'] = z.detach().cpu()\n",
    "        h = z\n",
    "        h = self.l1(h)\n",
    "        if DEBUG is not None: DEBUG[debugname+'.l1'] = h.detach().cpu()\n",
    "        h = h.reshape(h.shape[0], -1, self.bottom_width, self.bottom_width)\n",
    "        if DEBUG is not None: DEBUG[debugname+'.l1r'] = h.detach().cpu()\n",
    "        h = self.block2(h, y, DEBUG=DEBUG, debugname=debugname+'.block2')\n",
    "        if DEBUG is not None: DEBUG[debugname+'.block2'] = h.detach().cpu()\n",
    "        h = self.block3(h, y, DEBUG=DEBUG, debugname=debugname+'.block3')\n",
    "        if DEBUG is not None: DEBUG[debugname+'.block3'] = h.detach().cpu()\n",
    "        h = self.block4(h, y, DEBUG=DEBUG, debugname=debugname+'.block4')\n",
    "        if DEBUG is not None: DEBUG[debugname+'.block4'] = h.detach().cpu()\n",
    "        h = self.block5(h, y, DEBUG=DEBUG, debugname=debugname+'.block5')\n",
    "        if DEBUG is not None: DEBUG[debugname+'.block5'] = h.detach().cpu()\n",
    "        h = self.b6(h)\n",
    "        if DEBUG is not None: DEBUG[debugname+'.b6'] = h.detach().cpu()\n",
    "        h = self.activation(h)\n",
    "        h = torch.tanh(self.l6(h))\n",
    "        if DEBUG is not None: DEBUG[debugname+'.l6'] = h.detach().cpu()\n",
    "        return h\n"
   ]
  },
  {
   "cell_type": "markdown",
   "metadata": {},
   "source": [
    "## Discriminator\n",
    "\n",
    "And the discriminator. So one of the subtle differences between ResDisBlock and the ResDisOptimizedBlock is that ResDisBlock starts with an activation - even though these look like they could be both covered by a single module..."
   ]
  },
  {
   "cell_type": "code",
   "execution_count": 37,
   "metadata": {},
   "outputs": [],
   "source": [
    "class ResDisBlock(torch.nn.Module):\n",
    "    def __init__(self, in_channels, out_channels, hidden_channels=None, ksize=3, pad=1,\n",
    "                 activation=torch.nn.functional.relu, downsample=False):\n",
    "        super().__init__()\n",
    "        self.activation = activation\n",
    "        self.downsample = downsample\n",
    "        self.learnable_sc = (in_channels != out_channels) or downsample\n",
    "        hidden_channels = in_channels if hidden_channels is None else hidden_channels\n",
    "        self.c1 = torch.nn.Conv2d(in_channels, hidden_channels, ksize, padding=pad)\n",
    "        torch.nn.init.xavier_uniform_(self.c1.weight, gain=(2**0.5))\n",
    "        torch.nn.init.zeros_(self.c1.bias)\n",
    "        torch.nn.utils.spectral_norm(self.c1)\n",
    "        self.c2 = torch.nn.Conv2d(hidden_channels, out_channels, ksize, padding=pad)\n",
    "        torch.nn.init.xavier_uniform_(self.c2.weight, gain=(2**0.5))\n",
    "        torch.nn.init.zeros_(self.c2.bias)\n",
    "        torch.nn.utils.spectral_norm(self.c2)\n",
    "        if self.learnable_sc:\n",
    "            self.c_sc = torch.nn.Conv2d(in_channels, out_channels, 1, padding=0)\n",
    "            torch.nn.init.xavier_uniform_(self.c_sc.weight)\n",
    "            torch.nn.init.zeros_(self.c_sc.bias)\n",
    "            torch.nn.utils.spectral_norm(self.c_sc)\n",
    "\n",
    "    def forward(self, x, DEBUG=None, debugname=\"ResDisBlock\"):\n",
    "        h = x\n",
    "        if DEBUG is not None: DEBUG[debugname+'.inp'] = h.detach().cpu()\n",
    "        h = self.activation(h)\n",
    "        if DEBUG is not None: DEBUG[debugname+'.a1'] = h.detach().cpu()\n",
    "        h = self.c1(h)\n",
    "        if DEBUG is not None: DEBUG[debugname+'.c1'] = h.detach().cpu()\n",
    "        h = self.activation(h)\n",
    "        if DEBUG is not None: DEBUG[debugname+'.a2'] = h.detach().cpu()\n",
    "        h = self.c2(h)\n",
    "        if DEBUG is not None: DEBUG[debugname+'.c2'] = h.detach().cpu()\n",
    "        if self.downsample:\n",
    "            h = torch.nn.functional.avg_pool2d(h, 2)\n",
    "            if DEBUG is not None: DEBUG[debugname+'.dn'] = h.detach().cpu()\n",
    "        if self.learnable_sc:\n",
    "            sc = self.c_sc(x)\n",
    "            if DEBUG is not None: DEBUG[debugname+'.sc'] = h.detach().cpu()\n",
    "            if self.downsample:\n",
    "                sc = torch.nn.functional.avg_pool2d(sc, 2)\n",
    "                if DEBUG is not None: DEBUG[debugname+'.scdn'] = h.detach().cpu()\n",
    "        else:\n",
    "            sc = x\n",
    "        return h + sc\n",
    "\n",
    "class ResDisOptimizedBlock(torch.nn.Module):\n",
    "    def __init__(self, in_channels, out_channels, ksize=3, pad=1, activation=torch.nn.functional.relu):\n",
    "        super().__init__()\n",
    "        self.activation = activation\n",
    "        self.c1 = torch.nn.Conv2d(in_channels, out_channels, ksize, padding=pad)\n",
    "        torch.nn.init.xavier_uniform_(self.c1.weight, gain=(2**0.5))\n",
    "        torch.nn.init.zeros_(self.c1.bias)\n",
    "        torch.nn.utils.spectral_norm(self.c1)\n",
    "        self.c2 = torch.nn.Conv2d(out_channels, out_channels, ksize, padding=pad)\n",
    "        torch.nn.init.xavier_uniform_(self.c2.weight, gain=(2**0.5))\n",
    "        torch.nn.init.zeros_(self.c2.bias)\n",
    "        torch.nn.utils.spectral_norm(self.c2)\n",
    "        self.c_sc = torch.nn.Conv2d(in_channels, out_channels, 1, padding=0)\n",
    "        torch.nn.init.xavier_uniform_(self.c_sc.weight)\n",
    "        torch.nn.init.zeros_(self.c_sc.bias)\n",
    "        torch.nn.utils.spectral_norm(self.c_sc)\n",
    "\n",
    "    def forward(self, x, DEBUG=None, debugname=\"ResDisOptBlock\"):\n",
    "        h = x\n",
    "        if DEBUG is not None: DEBUG[debugname+'.inp'] = h.detach().cpu()\n",
    "        h = self.c1(h)\n",
    "        if DEBUG is not None: DEBUG[debugname+'.c1'] = h.detach().cpu()\n",
    "        h = self.activation(h)\n",
    "        if DEBUG is not None: DEBUG[debugname+'.a1'] = h.detach().cpu()\n",
    "        h = self.c2(h)\n",
    "        if DEBUG is not None: DEBUG[debugname+'.c2'] = h.detach().cpu()\n",
    "        h = torch.nn.functional.avg_pool2d(h, 2)\n",
    "        if DEBUG is not None: DEBUG[debugname+'.dn'] = h.detach().cpu()\n",
    "        sc = self.c_sc(x)\n",
    "        if DEBUG is not None: DEBUG[debugname+'.sc'] = h.detach().cpu()\n",
    "        sc = torch.nn.functional.avg_pool2d(sc, 2)\n",
    "        if DEBUG is not None: DEBUG[debugname+'.scdn'] = h.detach().cpu()\n",
    "        return h + sc\n",
    "\n",
    "class SNResNetProjectionDiscriminator(torch.nn.Module):\n",
    "    def __init__(self, ch=64, n_classes=0, activation=torch.nn.functional.relu):\n",
    "        super().__init__()\n",
    "        self.activation = activation\n",
    "        self.block1 = ResDisOptimizedBlock(3, ch)\n",
    "        self.block2 = ResDisBlock(ch, ch * 2, activation=activation, downsample=True)\n",
    "        self.block3 = ResDisBlock(ch * 2, ch * 4, activation=activation, downsample=True)\n",
    "        self.block4 = ResDisBlock(ch * 4, ch * 8, activation=activation, downsample=True)\n",
    "        self.block5 = ResDisBlock(ch * 8, ch * 16, activation=activation, downsample=True)\n",
    "        self.l6 = torch.nn.Linear(ch * 16, 1)\n",
    "        torch.nn.init.xavier_uniform_(self.l6.weight)\n",
    "        torch.nn.init.zeros_(self.l6.bias)\n",
    "        torch.nn.utils.spectral_norm(self.l6)\n",
    "\n",
    "        if n_classes > 0:\n",
    "            self.l_y = torch.nn.Embedding(n_classes, ch * 16)\n",
    "            torch.nn.init.xavier_uniform_(self.l_y.weight)\n",
    "            #torch.nn.init.zeros_(self.l_y.bias)\n",
    "            torch.nn.utils.spectral_norm(self.l_y)\n",
    "\n",
    "    def forward(self, x, y=None, DEBUG=None, debugname=\"discriminator\"):\n",
    "        h = x\n",
    "        if DEBUG is not None: DEBUG[debugname+'.inp'] = h.detach().cpu()\n",
    "        h = self.block1(h, DEBUG=DEBUG, debugname=debugname+'.block1')\n",
    "        if DEBUG is not None: DEBUG[debugname+'.block1'] = h.detach().cpu()\n",
    "        h = self.block2(h, DEBUG=DEBUG, debugname=debugname+'.block2')\n",
    "        if DEBUG is not None: DEBUG[debugname+'.block2'] = h.detach().cpu()\n",
    "        h = self.block3(h, DEBUG=DEBUG, debugname=debugname+'.block3')\n",
    "        if DEBUG is not None: DEBUG[debugname+'.block3'] = h.detach().cpu()\n",
    "        h = self.block4(h, DEBUG=DEBUG, debugname=debugname+'.block4')\n",
    "        if DEBUG is not None: DEBUG[debugname+'.block4'] = h.detach().cpu()\n",
    "        h = self.block5(h, DEBUG=DEBUG, debugname=debugname+'.block5')\n",
    "        if DEBUG is not None: DEBUG[debugname+'.block5'] = h.detach().cpu()\n",
    "        h = self.activation(h)\n",
    "        if DEBUG is not None: DEBUG[debugname+'.a1'] = h.detach().cpu()\n",
    "        h = h.sum([2, 3])\n",
    "        if DEBUG is not None: DEBUG[debugname+'.pool'] = h.detach().cpu()\n",
    "        output = self.l6(h)\n",
    "        if DEBUG is not None: DEBUG[debugname+'.l6'] = output.detach().cpu()\n",
    "        if y is not None:\n",
    "            w_y = self.l_y(y)\n",
    "            if DEBUG is not None: DEBUG[debugname+'.w_y'] = w_y.detach().cpu()\n",
    "            output = output + (w_y * h).sum(dim=1, keepdim=True)\n",
    "            if DEBUG is not None: DEBUG[debugname+'.output'] = output.detach().cpu()\n",
    "        return output\n"
   ]
  },
  {
   "cell_type": "markdown",
   "metadata": {},
   "source": [
    "## Putting it together\n",
    "\n",
    "Let's have some hyperparameters."
   ]
  },
  {
   "cell_type": "code",
   "execution_count": 38,
   "metadata": {},
   "outputs": [],
   "source": [
    "batchsize = 64\n",
    "num_iterations = 250000\n",
    "iterations_decay_start = 200000\n",
    "seed = 0\n",
    "display_interval = 20\n",
    "snapshot_interval = 10000\n",
    "evaluation_interval = 1000\n",
    "init_lr = 0.0002\n",
    "num_discriminator_iter = 5\n",
    "num_classes = 143 # cats and dogs\n",
    "device = torch.device('cuda')\n",
    "\n",
    "DATADIR = '/home/datasets/imagenet/'\n",
    "traindir = os.path.join(DATADIR, 'train')\n",
    "valdir = os.path.join(DATADIR, 'val')\n",
    "\n",
    "traindir = '/home/tv/data/vision/other-sn-gan/sngan_projection/datasets/preprocessed_cats_dogs/'\n"
   ]
  },
  {
   "cell_type": "markdown",
   "metadata": {},
   "source": [
    "## Dataloader\n",
    "\n",
    "We use the imagenet dataloader from `torchvision`. We resize to 64x64. (I'm not sure whether the original implementation does some cropping)."
   ]
  },
  {
   "cell_type": "code",
   "execution_count": 39,
   "metadata": {},
   "outputs": [],
   "source": [
    "normalize = torchvision.transforms.Normalize(mean=[0.485, 0.456, 0.406],\n",
    "                                             std=[0.229, 0.224, 0.225])\n",
    "\n",
    "# replicates chainer preprocessing with size 64, augmentation=false\n",
    "transforms = torchvision.transforms.Compose([torchvision.transforms.Resize(256),\n",
    "                                     torchvision.transforms.CenterCrop(256),\n",
    "                                     torchvision.transforms.Resize(64),\n",
    "                                     torchvision.transforms.ToTensor(),\n",
    "                                     torchvision.transforms.Lambda(lambda x: x*(255./128.)-1+torch.rand(*x.shape)/128.)])\n",
    "\n",
    "# tries to replicate chainer preprocessing with size 64 augmentation=true\n",
    "# tries to replicate chainer preprocessing with size 64, augmentation=true\n",
    "transforms = torchvision.transforms.Compose([torchvision.transforms.Resize(256),\n",
    "                                     torchvision.transforms.RandomCrop(int(256*0.9)),\n",
    "                                     torchvision.transforms.Resize(64),\n",
    "                                     torchvision.transforms.RandomHorizontalFlip(),\n",
    "                                     torchvision.transforms.ToTensor(),\n",
    "                                     torchvision.transforms.Lambda(lambda x: x*(255./128.)-1+torch.rand(*x.shape)/128.)])\n",
    "\n",
    "train_dataset = torchvision.datasets.ImageFolder(traindir, transforms)\n",
    "\n",
    "#val_dataset = torchvision.datasets.ImageFolder(valdir, transforms)\n",
    "\n"
   ]
  },
  {
   "cell_type": "code",
   "execution_count": 59,
   "metadata": {},
   "outputs": [
    {
     "data": {
      "text/plain": [
       "SNResNetProjectionDiscriminator(\n",
       "  (block1): ResDisOptimizedBlock(\n",
       "    (c1): Conv2d(3, 64, kernel_size=(3, 3), stride=(1, 1), padding=(1, 1))\n",
       "    (c2): Conv2d(64, 64, kernel_size=(3, 3), stride=(1, 1), padding=(1, 1))\n",
       "    (c_sc): Conv2d(3, 64, kernel_size=(1, 1), stride=(1, 1))\n",
       "  )\n",
       "  (block2): ResDisBlock(\n",
       "    (c1): Conv2d(64, 64, kernel_size=(3, 3), stride=(1, 1), padding=(1, 1))\n",
       "    (c2): Conv2d(64, 128, kernel_size=(3, 3), stride=(1, 1), padding=(1, 1))\n",
       "    (c_sc): Conv2d(64, 128, kernel_size=(1, 1), stride=(1, 1))\n",
       "  )\n",
       "  (block3): ResDisBlock(\n",
       "    (c1): Conv2d(128, 128, kernel_size=(3, 3), stride=(1, 1), padding=(1, 1))\n",
       "    (c2): Conv2d(128, 256, kernel_size=(3, 3), stride=(1, 1), padding=(1, 1))\n",
       "    (c_sc): Conv2d(128, 256, kernel_size=(1, 1), stride=(1, 1))\n",
       "  )\n",
       "  (block4): ResDisBlock(\n",
       "    (c1): Conv2d(256, 256, kernel_size=(3, 3), stride=(1, 1), padding=(1, 1))\n",
       "    (c2): Conv2d(256, 512, kernel_size=(3, 3), stride=(1, 1), padding=(1, 1))\n",
       "    (c_sc): Conv2d(256, 512, kernel_size=(1, 1), stride=(1, 1))\n",
       "  )\n",
       "  (block5): ResDisBlock(\n",
       "    (c1): Conv2d(512, 512, kernel_size=(3, 3), stride=(1, 1), padding=(1, 1))\n",
       "    (c2): Conv2d(512, 1024, kernel_size=(3, 3), stride=(1, 1), padding=(1, 1))\n",
       "    (c_sc): Conv2d(512, 1024, kernel_size=(1, 1), stride=(1, 1))\n",
       "  )\n",
       "  (l6): Linear(in_features=1024, out_features=1, bias=True)\n",
       "  (l_y): Embedding(1000, 1024)\n",
       ")"
      ]
     },
     "execution_count": 59,
     "metadata": {},
     "output_type": "execute_result"
    }
   ],
   "source": [
    "generator = ResNetGenerator(dim_z=128, bottom_width=4, ch=64, n_classes=num_classes)\n",
    "discriminator = SNResNetProjectionDiscriminator(ch=64, n_classes=num_classes)\n",
    "generator.to(device)\n",
    "discriminator.to(device)\n"
   ]
  },
  {
   "cell_type": "code",
   "execution_count": 15,
   "metadata": {},
   "outputs": [],
   "source": [
    "def endless_train_dl(dl):\n",
    "    while True:\n",
    "        for b in dl:\n",
    "            yield b\n",
    "\n",
    "opt_dis = torch.optim.Adam(params=discriminator.parameters(), lr=init_lr, betas=(0.0, 0.9))\n",
    "opt_gen = torch.optim.Adam(params=generator.parameters(), lr=init_lr, betas=(0.0, 0.9))\n",
    "train_dl_ = torch.utils.data.DataLoader(train_dataset, batch_size=batchsize, shuffle=True, pin_memory=True, num_workers=4)\n",
    "train_dl = endless_train_dl(train_dl_)\n"
   ]
  },
  {
   "cell_type": "markdown",
   "metadata": {},
   "source": [
    "## Chicken!\n",
    "\n",
    "(if you are using the full imagenet)"
   ]
  },
  {
   "cell_type": "code",
   "execution_count": 74,
   "metadata": {},
   "outputs": [
    {
     "data": {
      "image/png": "[encoded data removed]",
      "text/plain": [
       "<PIL.Image.Image image mode=RGB size=128x128 at 0x7FC1380EED30>"
      ]
     },
     "execution_count": 74,
     "metadata": {},
     "output_type": "execute_result"
    }
   ],
   "source": [
    "img = None\n",
    "if matplotlib.get_backend().lower() != 'agg':\n",
    "    im, lab = train_dataset[11000]\n",
    "    img = torchvision.transforms.functional.to_pil_image(im*0.5+0.5)\n",
    "    img = img.resize((128,128))\n",
    "img"
   ]
  },
  {
   "cell_type": "markdown",
   "metadata": {},
   "source": [
    "## Training\n",
    "\n",
    "Training promises to take 60 hours on my computer."
   ]
  },
  {
   "cell_type": "code",
   "execution_count": null,
   "metadata": {},
   "outputs": [],
   "source": [
    "time1 = time.time()\n",
    "for it_nr in range(num_iterations):\n",
    "    opt_dis.param_groups[0]['lr'] = init_lr * (1 - max(it_nr - iterations_decay_start, 0) / (num_iterations - iterations_decay_start))\n",
    "    opt_gen.param_groups[0]['lr'] = init_lr * (1 - max(it_nr - iterations_decay_start, 0) / (num_iterations - iterations_decay_start))\n",
    "    for i in range(num_discriminator_iter):\n",
    "        if i == 0:\n",
    "            #discriminator.eval() # ?\n",
    "            for p in discriminator.parameters():\n",
    "                p.requires_grad = False\n",
    "            #generator.train()\n",
    "            for p in generator.parameters():\n",
    "                p.requires_grad = True\n",
    "            # generator step batch size could be made different from batch size\n",
    "            y_fake = torch.randint(0, generator.n_classes, (batchsize,), device=device, dtype=torch.long)\n",
    "            x_fake = generator(batchsize, y=y_fake)\n",
    "            dis_fake = discriminator(x_fake, y=y_fake)\n",
    "            loss_gen = -dis_fake.mean()\n",
    "            opt_gen.zero_grad()\n",
    "            loss_gen.backward()\n",
    "            opt_gen.step()\n",
    "\n",
    "        #discriminator.train() # ?\n",
    "        for p in discriminator.parameters():\n",
    "            p.requires_grad = True\n",
    "        #generator.eval()\n",
    "        for p in generator.parameters():\n",
    "            p.requires_grad = False\n",
    "\n",
    "        x_real, y_real = next(train_dl)\n",
    "        x_real = x_real.to(device)\n",
    "        y_real = y_real.to(device)\n",
    "        bs = len(x_real)\n",
    "        dis_real = discriminator(x_real, y=y_real)\n",
    "        with torch.no_grad():\n",
    "            y_fake = torch.randint(0, generator.n_classes, (bs,), device=device, dtype=torch.long)\n",
    "            x_fake = generator(bs, y=y_fake).detach()\n",
    "        dis_fake = discriminator(x_fake, y=y_fake)\n",
    "\n",
    "        loss_dis = (torch.nn.functional.relu(1. - dis_real).mean() +\n",
    "                    torch.nn.functional.relu(1. + dis_fake).mean())\n",
    "        opt_dis.zero_grad()\n",
    "        loss_dis.backward()\n",
    "        opt_dis.step()\n",
    "    if it_nr % display_interval == 0:\n",
    "        print('loss_gen', loss_gen.item())\n",
    "        print('it_nr',it_nr, 'i', i, 'loss_dis', loss_dis.item())\n",
    "        time2 = time.time()\n",
    "        print (\"it_nr\", it_nr, \"/\", num_iterations, time2 - time1)\n",
    "        remaining = int((time2 - time1)* (num_iterations - it_nr) / float(display_interval))\n",
    "        print (\"remaining {:02d}:{:02d}:{:02d}\".format(remaining // 3600, remaining // 60 % 60, remaining % 60))\n",
    "        time1 = time2\n",
    "    if it_nr % evaluation_interval == 0:\n",
    "        with torch.no_grad():\n",
    "            y_fake = torch.randint(0, generator.n_classes, (batchsize,), device=device, dtype=torch.long)\n",
    "            x_fake = generator(batchsize, y=y_fake)\n",
    "            img = torchvision.transforms.functional.to_pil_image((x_fake.view(8,8,3,64,64).permute(2,0,3,1,4).reshape(3, 8*64,8*64)*0.5+0.5).cpu())\n",
    "            img.save(f\"sample_{it_nr}.jpg\")\n",
    "    if it_nr % snapshot_interval == 0:\n",
    "        print (\"saving snapshot\")\n",
    "        torch.save([discriminator.state_dict(), generator.state_dict()], f\"snapshot_{it_nr}.pt\")\n",
    "print (\"saving snapshot\")\n",
    "torch.save([discriminator.state_dict(), generator.state_dict()], f\"snapshot_{it_nr}.pt\")\n"
   ]
  },
  {
   "cell_type": "code",
   "execution_count": 350,
   "metadata": {},
   "outputs": [],
   "source": [
    "if matplotlib.get_backend().lower() == 'agg': # below is not for non-interactive\n",
    "    import sys\n",
    "    sys.exit(0)"
   ]
  },
  {
   "cell_type": "markdown",
   "metadata": {},
   "source": [
    "# Sampling\n"
   ]
  },
  {
   "cell_type": "code",
   "execution_count": 71,
   "metadata": {},
   "outputs": [],
   "source": [
    "generator = ResNetGenerator(dim_z=128, bottom_width=4, ch=64, n_classes=num_classes)\n",
    "discriminator = SNResNetProjectionDiscriminator(ch=64, n_classes=num_classes)\n",
    "\n",
    "\n",
    "[dis_sd, gen_sd] = torch.load('./snapshot_0.pt')\n",
    "discriminator.load_state_dict(dis_sd)\n",
    "generator.load_state_dict(gen_sd)"
   ]
  },
  {
   "cell_type": "code",
   "execution_count": 72,
   "metadata": {},
   "outputs": [],
   "source": [
    "y_fake = torch.randint(0, generator.n_classes, (batchsize,), device=next(generator.parameters()).device, dtype=torch.long)\n",
    "x_fake = generator(batchsize, y=y_fake)\n",
    "\n",
    "img = torchvision.transforms.functional.to_pil_image((x_fake.view(8,8,3,64,64).permute(2,0,3,1,4).reshape(3, 8*64,8*64)*0.5+0.5).cpu())\n",
    "\n",
    "img.save(\"sample_manual.jpg\")"
   ]
  },
  {
   "cell_type": "markdown",
   "metadata": {},
   "source": [
    "# Random stuff for debugging\n",
    "\n",
    "Stuff like comparison to original chainer implementation, loading their weights etc."
   ]
  },
  {
   "cell_type": "code",
   "execution_count": 293,
   "metadata": {},
   "outputs": [],
   "source": [
    "generator = ResNetGenerator(n_classes=143)\n",
    "generator.eval()\n",
    "import numpy\n",
    "sd = numpy.load('/home/tv/data/paper-implementations/sngan_projection/pretrained/ResNetGeneratorImageNet_250000.npz')\n",
    "k0 = sorted(sd.keys())\n",
    "k2=sorted(generator.state_dict().keys())\n",
    "k1 = [((k+'$').replace('/','.').replace('.beta','.bias').replace('.gamma','.weight')\n",
    "           .replace('.avg_mean','.running_mean').replace('.avg_var','.running_var')\n",
    "           .replace('.N$','.num_batches_tracked$').replace('.weights.W$','.weight$')\n",
    "           .replace('.biass.W$','.bias$').replace('.W$','.weight$').replace('.b$','.bias$')\n",
    "          [:-1],k) for k in k0]\n",
    "sd2 = {k:torch.from_numpy(sd[kold]) for k,kold in k1}\n",
    "generator.load_state_dict(sd2)\n"
   ]
  },
  {
   "cell_type": "code",
   "execution_count": null,
   "metadata": {},
   "outputs": [],
   "source": [
    "def rename_param(k):\n",
    "    return ((k+'$').replace('/','.').replace('.beta','.bias').replace('.gamma','.weight')\n",
    "                   .replace('.avg_mean','.running_mean').replace('.avg_var','.running_var')\n",
    "                   .replace('.N$','.num_batches_tracked$').replace('.weights.W$','.weight$')\n",
    "                   .replace('.biass.W$','.bias$').replace('.W$','.weight$').replace('.b$','.bias$')\n",
    "                    .replace('.u$', '.weight_u$')[:-1])\n",
    "\n",
    "discriminator = SNResNetProjectionDiscriminator(n_classes=143)\n",
    "#discriminator.eval()\n",
    "import numpy\n",
    "sd = numpy.load('/home/tv/data/paper-implementations/sngan_projection/pretrained/ResNetGeneratorImageNet_250000.npz.DISC')\n",
    "k0 = sorted(sd.keys())\n",
    "k2=sorted(generator.state_dict().keys())\n",
    "k1 = [((k+'$').replace('/','.').replace('.beta','.bias').replace('.gamma','.weight')\n",
    "           .replace('.avg_mean','.running_mean').replace('.avg_var','.running_var')\n",
    "           .replace('.N$','.num_batches_tracked$').replace('.weights.W$','.weight$')\n",
    "           .replace('.biass.W$','.bias$').replace('.W$','.weight$').replace('.b$','.bias$')\n",
    "           .replace('.u$', '.weight_u$')\n",
    "          [:-1],k) for k in k0]\n",
    "sd2 = {k:torch.from_numpy(sd[kold]) for k,kold in k1}\n",
    "sdo = discriminator.state_dict()\n",
    "for k in [k for k in sdo.keys() if k.endswith('_orig')]:\n",
    "    sd2[k] = sd2[k.replace('.weight_orig','.weight')]\n",
    "for k in [k for k in sdo.keys() if k.endswith('_u')]:\n",
    "    sd2[k].squeeze_(0)\n",
    "\n",
    "#[k for k in sd2.keys() if k not in sdo], [k for k in sdo.keys() if k not in sd2]\n",
    "discriminator.load_state_dict(sd2)\n"
   ]
  },
  {
   "cell_type": "code",
   "execution_count": 295,
   "metadata": {},
   "outputs": [
    {
     "data": {
      "text/plain": [
       "dict_keys(['inp', 'block1.inp', 'block1.c1', 'block1.a1', 'block1.c2', 'block1.dn', 'block1.sc', 'block1', 'block2.inp', 'block2.a1', 'block2.c1', 'block2.a2', 'block2.c2', 'block2.dn', 'block2.sc', 'block2.sc_dn', 'block2', 'block3.inp', 'block3.a1', 'block3.c1', 'block3.a2', 'block3.c2', 'block3.dn', 'block3.sc', 'block3.sc_dn', 'block3', 'block4.inp', 'block4.a1', 'block4.c1', 'block4.a2', 'block4.c2', 'block4.dn', 'block4.sc', 'block4.sc_dn', 'block4', 'block5.inp', 'block5.a1', 'block5.c1', 'block5.a2', 'block5.c2', 'block5.dn', 'block5.sc', 'block5.sc_dn', 'block5', 'a1', 'pooled', 'l6', 'w_y', 'product'])"
      ]
     },
     "execution_count": 295,
     "metadata": {},
     "output_type": "execute_result"
    }
   ],
   "source": [
    "intermediates = {k:torch.from_numpy(v) for k,v in numpy.load('/home/tv/data/paper-implementations/sngan_projection/DEBUG_OUTPUT.npz').items()}\n",
    "intermediates = {k:(v.long() if v.dtype==torch.int else v) for k,v in intermediates.items()}\n",
    "intermediates_gen = {k.replace('generator.',''):v for k,v in intermediates.items() if k.startswith('generator.')}\n",
    "intermediates_dis = {k.replace('discriminator.',''):v for k,v in intermediates.items() if k.startswith('discriminator.')}\n",
    "intermediates_dis.keys()"
   ]
  },
  {
   "cell_type": "code",
   "execution_count": 325,
   "metadata": {},
   "outputs": [
    {
     "data": {
      "text/plain": [
       "tensor(0.0001)"
      ]
     },
     "execution_count": 325,
     "metadata": {},
     "output_type": "execute_result"
    }
   ],
   "source": [
    "DEBUG={}\n",
    "res = generator(batchsize=25, z=intermediates_gen['z'], y=intermediates_gen['y'], DEBUG=DEBUG)\n",
    "DEBUG = {k.replace('generator.',''):v for k,v in DEBUG.items()}\n",
    "#res.shape, intermediates_gen['l6'].shape\n",
    "(DEBUG['l6'] - intermediates_gen['l6']).abs().max()"
   ]
  },
  {
   "cell_type": "code",
   "execution_count": 326,
   "metadata": {},
   "outputs": [
    {
     "data": {
      "text/plain": [
       "dict_keys(['inp', 'block1.inp', 'block1.c1', 'block1.a1', 'block1.c2', 'block1.dn', 'block1.sc', 'block1.scdn', 'block1', 'block2.inp', 'block2.a1', 'block2.c1', 'block2.a2', 'block2.c2', 'block2.dn', 'block2.sc', 'block2.scdn', 'block2', 'block3.inp', 'block3.a1', 'block3.c1', 'block3.a2', 'block3.c2', 'block3.dn', 'block3.sc', 'block3.scdn', 'block3', 'block4.inp', 'block4.a1', 'block4.c1', 'block4.a2', 'block4.c2', 'block4.dn', 'block4.sc', 'block4.scdn', 'block4', 'block5.inp', 'block5.a1', 'block5.c1', 'block5.a2', 'block5.c2', 'block5.dn', 'block5.sc', 'block5.scdn', 'block5', 'a1', 'pool', 'l6', 'w_y', 'output'])"
      ]
     },
     "execution_count": 326,
     "metadata": {},
     "output_type": "execute_result"
    }
   ],
   "source": [
    "DEBUG_DIS={}\n",
    "dis = discriminator(res, y=intermediates_gen['y'], DEBUG=DEBUG_DIS)\n",
    "DEBUG_DIS = {k.replace('discriminator.',''):v for k,v in DEBUG_DIS.items()}\n",
    "DEBUG_DIS.keys()"
   ]
  },
  {
   "cell_type": "code",
   "execution_count": 332,
   "metadata": {},
   "outputs": [
    {
     "data": {
      "text/plain": [
       "tensor(5.3644e-07)"
      ]
     },
     "execution_count": 332,
     "metadata": {},
     "output_type": "execute_result"
    }
   ],
   "source": [
    "(DEBUG_DIS['output'] - intermediates_dis['product']).abs().max()"
   ]
  },
  {
   "cell_type": "code",
   "execution_count": 328,
   "metadata": {},
   "outputs": [
    {
     "data": {
      "text/plain": [
       "tensor(0.0001)"
      ]
     },
     "execution_count": 328,
     "metadata": {},
     "output_type": "execute_result"
    }
   ],
   "source": [
    "(DEBUG_DIS['block1.c1'] - intermediates_dis['block1.c1']).abs().max()"
   ]
  },
  {
   "cell_type": "code",
   "execution_count": 240,
   "metadata": {},
   "outputs": [
    {
     "data": {
      "text/plain": [
       "['block2.b1.num_batches_tracked',\n",
       " 'block2.b1.running_mean',\n",
       " 'block2.b1.running_var',\n",
       " 'block2.b1.bias',\n",
       " 'block2.b1.weight']"
      ]
     },
     "execution_count": 240,
     "metadata": {},
     "output_type": "execute_result"
    }
   ],
   "source": [
    "[k for k in sd2.keys() if k.startswith('block2.b1')]"
   ]
  },
  {
   "cell_type": "code",
   "execution_count": 338,
   "metadata": {},
   "outputs": [
    {
     "data": {
      "text/plain": [
       "<matplotlib.image.AxesImage at 0x7f12b6e139e8>"
      ]
     },
     "execution_count": 338,
     "metadata": {},
     "output_type": "execute_result"
    },
    {
     "data": {
      "image/png": "[encoded data removed]",
      "text/plain": [
       "<matplotlib.figure.Figure at 0x7f12ce3903c8>"
      ]
     },
     "metadata": {},
     "output_type": "display_data"
    }
   ],
   "source": [
    "pyplot.imshow(((res.view(5,5,3,64,64).permute(0,3,1,4,2).reshape(5*64,5*64,3)*127.5+127.5).clamp(0,255).byte()).detach().numpy())"
   ]
  },
  {
   "cell_type": "code",
   "execution_count": 401,
   "metadata": {},
   "outputs": [],
   "source": [
    "sd_dis, sd_gen = torch.load('./snapshot_80000.pt')"
   ]
  },
  {
   "cell_type": "code",
   "execution_count": 402,
   "metadata": {},
   "outputs": [],
   "source": [
    "generator = ResNetGenerator(n_classes=1000)\n",
    "generator.eval()\n",
    "generator.load_state_dict(sd_gen)"
   ]
  },
  {
   "cell_type": "code",
   "execution_count": 403,
   "metadata": {},
   "outputs": [],
   "source": [
    "with torch.no_grad():\n",
    "    res = generator(batchsize=25)"
   ]
  },
  {
   "cell_type": "code",
   "execution_count": 404,
   "metadata": {},
   "outputs": [
    {
     "data": {
      "text/plain": [
       "<matplotlib.image.AxesImage at 0x7f12ce0c3518>"
      ]
     },
     "execution_count": 404,
     "metadata": {},
     "output_type": "execute_result"
    },
    {
     "data": {
      "image/png": "[encoded data removed]",
      "text/plain": [
       "<matplotlib.figure.Figure at 0x7f12ce146128>"
      ]
     },
     "metadata": {},
     "output_type": "display_data"
    }
   ],
   "source": [
    "pyplot.imshow(((res.view(5,5,3,64,64).permute(0,3,1,4,2).reshape(5*64,5*64,3)*127.5+127.5).clamp(0,255).byte()).detach().numpy())"
   ]
  },
  {
   "cell_type": "code",
   "execution_count": null,
   "metadata": {},
   "outputs": [],
   "source": [
    "pyplot.imshow(res[0].mean(0).numpy())"
   ]
  },
  {
   "cell_type": "code",
   "execution_count": 14,
   "metadata": {},
   "outputs": [
    {
     "name": "stdout",
     "output_type": "stream",
     "text": [
      "diff= 0.000244140625\n"
     ]
    }
   ],
   "source": [
    "import torch\n",
    "\n",
    "inputSize = 70\n",
    "outputSize = 50\n",
    "batchSize = 20\n",
    "\n",
    "linear = torch.nn.Linear(inputSize, outputSize)\n",
    "linear.cuda()\n",
    "\n",
    "inp = torch.Tensor(range(batchSize*inputSize)).reshape(batchSize, inputSize).cuda()\n",
    "torch.cuda.synchronize()\n",
    "out1 = linear(inp)\n",
    "\n",
    "lst = []\n",
    "for i in range(batchSize):\n",
    "    o = linear(inp[i:i+1])\n",
    "    lst.append(o)\n",
    "out2 = torch.cat(lst, 0)\n",
    "\n",
    "print(\"diff=\", (out1-out2).abs().max().item())\n"
   ]
  },
  {
   "cell_type": "code",
   "execution_count": 77,
   "metadata": {},
   "outputs": [
    {
     "name": "stdout",
     "output_type": "stream",
     "text": [
      "l1.weight 0.011,-0.000\n",
      "block2.c1.weight 0.017,-0.000\n",
      "block2.c2.weight 0.021,-0.000\n",
      "block2.c_sc.weight 0.036,-0.000\n",
      "block3.c1.weight 0.024,-0.000\n",
      "block3.c2.weight 0.029,-0.000\n",
      "block3.c_sc.weight 0.051,-0.000\n",
      "block4.c1.weight 0.034,-0.000\n",
      "block4.c2.weight 0.042,0.000\n",
      "block4.c_sc.weight 0.072,0.001\n",
      "block5.c1.weight 0.048,0.000\n",
      "block5.c2.weight 0.059,0.001\n",
      "block5.c_sc.weight 0.103,0.002\n",
      "l6.weight 0.058,0.000\n"
     ]
    }
   ],
   "source": [
    "for n,p in generator.named_parameters():\n",
    "    parts = set(n.split('.'))\n",
    "    if not ('b1' in parts or 'b2' in parts or 'b6' in parts or 'bias' in parts):\n",
    "         print (n, '{:.3f},{:.3f}'.format(p.std(unbiased=False).item(), p.mean().item()))"
   ]
  },
  {
   "cell_type": "code",
   "execution_count": 71,
   "metadata": {},
   "outputs": [
    {
     "data": {
      "text/plain": [
       "tensor(0., device='cuda:0', grad_fn=<StdBackward0>)"
      ]
     },
     "execution_count": 71,
     "metadata": {},
     "output_type": "execute_result"
    }
   ],
   "source": []
  },
  {
   "cell_type": "code",
   "execution_count": 9,
   "metadata": {},
   "outputs": [
    {
     "name": "stderr",
     "output_type": "stream",
     "text": [
      "/usr/lib/python3/dist-packages/h5py/__init__.py:36: FutureWarning: Conversion of the second argument of issubdtype from `float` to `np.floating` is deprecated. In future, it will be treated as `np.float64 == np.dtype(float).type`.\n",
      "  from ._conv import register_converters as _register_converters\n"
     ]
    }
   ],
   "source": [
    "import os, sys, time\n",
    "import shutil\n",
    "import yaml\n",
    "\n",
    "import argparse\n",
    "import chainer\n",
    "from chainer import training\n",
    "from chainer.training import extension\n",
    "from chainer.training import extensions\n",
    "\n",
    "PATH = '/home/tv/data/vision/other-sn-gan/sngan_projection/'\n",
    "if PATH not in sys.path:\n",
    "    sys.path.append(PATH)\n",
    "from evaluation import sample_generate_conditional, sample_generate_light, calc_inception\n",
    "import source.yaml_utils as yaml_utils\n",
    "\n",
    "\n",
    "\n",
    "\n",
    "def load_models(config):\n",
    "    gen_conf = config.models['generator']\n",
    "    gen = yaml_utils.load_model(gen_conf['fn'], gen_conf['name'], gen_conf['args'])\n",
    "    dis_conf = config.models['discriminator']\n",
    "    dis = yaml_utils.load_model(dis_conf['fn'], dis_conf['name'], dis_conf['args'])\n",
    "    return gen, dis\n",
    "\n",
    "\n",
    "def make_optimizer(model, alpha=0.0002, beta1=0., beta2=0.9):\n",
    "    optimizer = chainer.optimizers.Adam(alpha=alpha, beta1=beta1, beta2=beta2)\n",
    "    optimizer.setup(model)\n",
    "    return optimizer\n",
    "\n",
    "class args:\n",
    "    pass\n",
    "args.config_path = '/home/tv/data/vision/other-sn-gan/sngan_projection/configs/sn_projection_dog_and_cat_64.yml'\n",
    "args.gpu = 0 # gpu 0\n",
    "args.data_dir = '/home/tv/data/vision/other-sn-gan/sngan_projection/datasets/preprocessed_cats_dogs/'\n",
    "args.results_dir = '/home/tv/data/vision/other-sn-gan/sngan_projection/output/'\n",
    "args.inception_model_path='/home/tv/data/vision/other-sn-gan/sngan_projection/datasets/inception_model'\n",
    "#    parser.add_argument('--snapshot', type=str, default='',\n",
    "#                        help='path to the snapshot')\n",
    "args.loaderjob = 1\n",
    "\n",
    "config = yaml_utils.Config(yaml.load(open(args.config_path)))\n",
    "\n",
    "def replace_paths(d, root):\n",
    "    for k,v in d.items():\n",
    "        if isinstance(v, dict):\n",
    "            replace_paths(v, root)\n",
    "        if k in {'path', 'fn', 'dataset_fn'}:\n",
    "            d[k] = os.path.join(root, d[k])\n",
    "\n",
    "replace_paths(config.config, PATH)\n",
    "\n",
    "chainer.cuda.get_device_from_id(args.gpu).use()\n",
    "\n",
    "\n",
    "gen, dis = load_models(config)\n",
    "gen.to_gpu(device=args.gpu)\n",
    "dis.to_gpu(device=args.gpu)\n",
    "models = {\"gen\": gen, \"dis\": dis}\n",
    "# Optimizer\n",
    "opt_gen = make_optimizer(\n",
    "    gen, alpha=config.adam['alpha'], beta1=config.adam['beta1'], beta2=config.adam['beta2'])\n",
    "opt_dis = make_optimizer(\n",
    "    dis, alpha=config.adam['alpha'], beta1=config.adam['beta1'], beta2=config.adam['beta2'])\n",
    "opts = {\"opt_gen\": opt_gen, \"opt_dis\": opt_dis}\n",
    "# Dataset\n",
    "config['dataset']['args']['root'] = args.data_dir\n",
    "dataset = yaml_utils.load_dataset(config)\n"
   ]
  },
  {
   "cell_type": "code",
   "execution_count": 10,
   "metadata": {},
   "outputs": [],
   "source": [
    "gen_state = {}\n",
    "gen.serialize(chainer.serializers.DictionarySerializer(gen_state))\n",
    "dis_state = {}\n",
    "dis.serialize(chainer.serializers.DictionarySerializer(dis_state))\n",
    "\n",
    "def rename_param(k):\n",
    "    return ((k+'$').replace('/','.').replace('.beta','.bias').replace('.gamma','.weight')\n",
    "                   .replace('.avg_mean','.running_mean').replace('.avg_var','.running_var')\n",
    "                   .replace('.N$','.num_batches_tracked$').replace('.weights.W$','.weight$')\n",
    "                   .replace('.biass.W$','.bias$').replace('.W$','.weight$').replace('.b$','.bias$')\n",
    "                   .replace('.u$', '.weight_u$')[:-1].lstrip('.'))\n",
    "\n",
    "def translate_sd(sd, target):\n",
    "    sd2 = {rename_param(k):torch.from_numpy(v).clone() for k,v in sd.items()}\n",
    "    sdo = target.state_dict()\n",
    "    for k in [k for k in sdo.keys() if k.endswith('_orig')]:\n",
    "        sd2[k] = sd2[k.replace('.weight_orig','.weight')]\n",
    "    for k in [k for k in sdo.keys() if k.endswith('_u')]:\n",
    "        sd2[k].squeeze_(0)\n",
    "    return sd2\n",
    "\n",
    "discriminator = SNResNetProjectionDiscriminator(n_classes=143)\n",
    "generator = ResNetGenerator(n_classes=143)\n",
    "\n",
    "dis_sd = translate_sd(dis_state, discriminator)\n",
    "gen_sd = translate_sd(gen_state, generator)\n",
    "\n",
    "discriminator.load_state_dict(dis_sd)\n",
    "generator.load_state_dict(gen_sd)\n",
    "\n",
    "opt_dis_pt = torch.optim.Adam(params=discriminator.parameters(), lr=init_lr, betas=(0.0, 0.9))\n",
    "opt_gen_pt = torch.optim.Adam(params=generator.parameters(), lr=init_lr, betas=(0.0, 0.9))\n"
   ]
  },
  {
   "cell_type": "code",
   "execution_count": 11,
   "metadata": {},
   "outputs": [
    {
     "name": "stderr",
     "output_type": "stream",
     "text": [
      "/usr/lib/python3/dist-packages/scipy/misc/pilutil.py:482: FutureWarning: Conversion of the second argument of issubdtype from `int` to `np.signedinteger` is deprecated. In future, it will be treated as `np.int64 == np.dtype(int).type`.\n",
      "  if issubdtype(ts, int):\n",
      "/usr/lib/python3/dist-packages/scipy/misc/pilutil.py:485: FutureWarning: Conversion of the second argument of issubdtype from `float` to `np.floating` is deprecated. In future, it will be treated as `np.float64 == np.dtype(float).type`.\n",
      "  elif issubdtype(type(size), float):\n"
     ]
    }
   ],
   "source": [
    "import numpy\n",
    "import math\n",
    "imgs, labs = zip(*[dataset[i*1000] for i in range(32)])\n",
    "imgs = numpy.stack(imgs, axis=0)\n",
    "labs = numpy.array(labs)\n",
    "imgs.shape, labs.shape\n",
    "\n",
    "batch = gen.xp.array(imgs, dtype=numpy.float32),gen.xp.array(labs, dtype=numpy.int64)"
   ]
  },
  {
   "cell_type": "code",
   "execution_count": 12,
   "metadata": {},
   "outputs": [
    {
     "name": "stdout",
     "output_type": "stream",
     "text": [
      "{'loss_gen': variable(0.0327008)}\n",
      "{'loss_dis': variable(2.0276747)}\n"
     ]
    }
   ],
   "source": [
    "from source.miscs.random_samples import sample_continuous, sample_categorical\n",
    "\n",
    "\n",
    "def loss_hinge_dis(dis_fake, dis_real):\n",
    "    loss = chainer.functions.mean(chainer.functions.relu(1. - dis_real))\n",
    "    loss += chainer.functions.mean(chainer.functions.relu(1. + dis_fake))\n",
    "    return loss\n",
    "\n",
    "\n",
    "def loss_hinge_gen(dis_fake):\n",
    "    loss = -chainer.functions.mean(dis_fake)\n",
    "    return loss\n",
    "\n",
    "\n",
    "n_gen_samples = 32\n",
    "xp = gen.xp\n",
    "DEBUG_CHAINER_GEN={}\n",
    "DEBUG_CHAINER_DIS={}\n",
    "for i in range(1):\n",
    "    if i == 0:\n",
    "        y_fake = sample_categorical(gen.n_classes, n_gen_samples, xp=gen.xp)\n",
    "        z_fake = sample_continuous(gen.dim_z, n_gen_samples, distribution=gen.distribution, xp=gen.xp)\n",
    "        x_fake = gen(n_gen_samples, y=y_fake, z=z_fake, DEBUG=DEBUG_CHAINER_GEN)\n",
    "        x_fake_dis = chainer.Variable(x_fake.data, requires_grad=True)\n",
    "        dis_fake = dis(x_fake_dis, y=y_fake)\n",
    "        loss_gen = loss_hinge_gen(dis_fake=dis_fake)\n",
    "        gen.cleargrads()\n",
    "        loss_gen.backward(retain_grad=True)\n",
    "        chainer.functions.sum(x_fake*x_fake_dis.grad).backward()\n",
    "        opt_gen.update()        \n",
    "        print({'loss_gen': loss_gen})\n",
    "    x_real, y_real = batch\n",
    "    batchsize = len(x_real)\n",
    "    dis_real = dis(x_real, y=y_real)\n",
    "    y_fake_dis = sample_categorical(gen.n_classes, n_gen_samples, xp=gen.xp)\n",
    "    z_fake_dis = sample_continuous(gen.dim_z, n_gen_samples, distribution=gen.distribution, xp=gen.xp)\n",
    "    x_fake_dis = gen(n_gen_samples, y=y_fake_dis, z=z_fake_dis)\n",
    "    dis_fake = dis(x_fake_dis, y=y_fake_dis, DEBUG=DEBUG_CHAINER_DIS)\n",
    "    x_fake_dis.unchain_backward()\n",
    "\n",
    "    loss_dis = loss_hinge_dis(dis_fake=dis_fake, dis_real=dis_real)\n",
    "    dis.cleargrads()\n",
    "    loss_dis.backward()\n",
    "    opt_dis.update()\n",
    "    print({'loss_dis': loss_dis})\n"
   ]
  },
  {
   "cell_type": "code",
   "execution_count": 13,
   "metadata": {},
   "outputs": [
    {
     "name": "stdout",
     "output_type": "stream",
     "text": [
      "{'loss_gen': 0.032700832933187485}\n",
      "{'loss_dis': 2.0273492336273193}\n"
     ]
    }
   ],
   "source": [
    "import cupy\n",
    "DEBUG_PYTORCH_GEN = {}\n",
    "DEBUG_PYTORCH_DIS = {}\n",
    "y_fake_pt = torch.from_numpy(cupy.asnumpy(y_fake)).long()\n",
    "z_fake_pt = torch.from_numpy(cupy.asnumpy(z_fake))\n",
    "x_fake_pt = generator(batchsize=n_gen_samples, z=z_fake_pt, y=y_fake_pt, DEBUG=DEBUG_PYTORCH_GEN)\n",
    "x_fake_pt.retain_grad()\n",
    "dis_fake_pt = discriminator(x_fake_pt, y=y_fake_pt)\n",
    "loss_gen_pt = -dis_fake_pt.mean()\n",
    "generator.zero_grad()\n",
    "loss_gen_pt.backward()\n",
    "opt_gen_pt.step()\n",
    "print({'loss_gen': loss_gen_pt.item()})\n",
    "\n",
    "\n",
    "x_real_pt = torch.from_numpy(cupy.asnumpy(x_real))\n",
    "y_real_pt = torch.from_numpy(cupy.asnumpy(y_real)).long()\n",
    "#        x_real = x_real.to(device)\n",
    "#        y_real = y_real.to(device)\n",
    "bs = len(x_real)\n",
    "dis_real_pt = discriminator(x_real_pt, y=y_real_pt)\n",
    "with torch.no_grad():\n",
    "    y_fake_dis_pt = torch.from_numpy(cupy.asnumpy(y_fake_dis)).long()\n",
    "    z_fake_dis_pt = torch.from_numpy(cupy.asnumpy(z_fake_dis))\n",
    "\n",
    "    #y_fake = torch.randint(0, generator.n_classes, (bs,), device=device, dtype=torch.long)\n",
    "    x_fake_dis_pt = generator(bs, y=y_fake_dis_pt, z=z_fake_dis_pt).detach()\n",
    "\n",
    "dis_fake_pt = discriminator(x_fake_dis_pt, y=y_fake_dis_pt, DEBUG=DEBUG_PYTORCH_DIS)\n",
    "\n",
    "loss_dis_pt = (torch.nn.functional.relu(1. - dis_real_pt).mean() +\n",
    "                    torch.nn.functional.relu(1. + dis_fake_pt).mean())\n",
    "opt_dis_pt.zero_grad()\n",
    "loss_dis_pt.backward()\n",
    "opt_dis_pt.step()\n",
    "print ({'loss_dis':loss_dis_pt.item()})"
   ]
  },
  {
   "cell_type": "code",
   "execution_count": 14,
   "metadata": {},
   "outputs": [
    {
     "data": {
      "text/plain": [
       "<matplotlib.colorbar.Colorbar at 0x7fc11053d208>"
      ]
     },
     "execution_count": 14,
     "metadata": {},
     "output_type": "execute_result"
    },
    {
     "data": {
      "image/png": "[encoded data removed]",
      "text/plain": [
       "<matplotlib.figure.Figure at 0x7fc11357e470>"
      ]
     },
     "metadata": {},
     "output_type": "display_data"
    }
   ],
   "source": [
    "#x_fake_dis.grad\n",
    "pyplot.imshow(x_fake_pt.grad[0,0].detach().numpy())\n",
    "pyplot.colorbar()\n",
    "#DEBUG_CHAINER_GEN['generator.z']-DEBUG_PYTORCH_GEN['generator.z'].numpy()"
   ]
  },
  {
   "cell_type": "code",
   "execution_count": 15,
   "metadata": {},
   "outputs": [
    {
     "data": {
      "text/plain": [
       "<matplotlib.colorbar.Colorbar at 0x7fc11042a7f0>"
      ]
     },
     "execution_count": 15,
     "metadata": {},
     "output_type": "execute_result"
    },
    {
     "data": {
      "image/png": "[encoded data removed]",
      "text/plain": [
       "<matplotlib.figure.Figure at 0x7fc11357e438>"
      ]
     },
     "metadata": {},
     "output_type": "display_data"
    }
   ],
   "source": [
    "pyplot.imshow(cupy.asnumpy(x_fake_dis.grad[0,0]))\n",
    "pyplot.colorbar()"
   ]
  },
  {
   "cell_type": "code",
   "execution_count": 16,
   "metadata": {},
   "outputs": [
    {
     "data": {
      "text/plain": [
       "(array([3.3487e+04, 3.3344e+04, 3.2295e+04, 3.1375e+04, 2.9803e+04,\n",
       "        2.8210e+04, 2.6105e+04, 2.4066e+04, 2.1730e+04, 1.9626e+04,\n",
       "        1.7612e+04, 1.5491e+04, 1.3209e+04, 1.1382e+04, 1.0156e+04,\n",
       "        8.5670e+03, 6.9900e+03, 5.9430e+03, 4.7970e+03, 3.8470e+03,\n",
       "        3.1390e+03, 2.6010e+03, 2.0350e+03, 1.6290e+03, 1.2810e+03,\n",
       "        1.0700e+03, 7.7400e+02, 5.8500e+02, 5.3600e+02, 3.5800e+02,\n",
       "        3.0100e+02, 2.2100e+02, 1.4300e+02, 1.3000e+02, 1.0100e+02,\n",
       "        7.9000e+01, 5.2000e+01, 4.5000e+01, 3.2000e+01, 1.5000e+01,\n",
       "        2.0000e+01, 8.0000e+00, 1.0000e+01, 5.0000e+00, 2.0000e+00,\n",
       "        3.0000e+00, 0.0000e+00, 3.0000e+00, 0.0000e+00, 3.0000e+00]),\n",
       " array([4.12114787e-13, 1.93206328e-07, 3.86412244e-07, 5.79618159e-07,\n",
       "        7.72824075e-07, 9.66029991e-07, 1.15923591e-06, 1.35244182e-06,\n",
       "        1.54564774e-06, 1.73885365e-06, 1.93205957e-06, 2.12526549e-06,\n",
       "        2.31847140e-06, 2.51167732e-06, 2.70488323e-06, 2.89808915e-06,\n",
       "        3.09129506e-06, 3.28450098e-06, 3.47770690e-06, 3.67091281e-06,\n",
       "        3.86411873e-06, 4.05732464e-06, 4.25053056e-06, 4.44373647e-06,\n",
       "        4.63694239e-06, 4.83014831e-06, 5.02335422e-06, 5.21656014e-06,\n",
       "        5.40976605e-06, 5.60297197e-06, 5.79617789e-06, 5.98938380e-06,\n",
       "        6.18258972e-06, 6.37579563e-06, 6.56900155e-06, 6.76220746e-06,\n",
       "        6.95541338e-06, 7.14861930e-06, 7.34182521e-06, 7.53503113e-06,\n",
       "        7.72823704e-06, 7.92144296e-06, 8.11464887e-06, 8.30785479e-06,\n",
       "        8.50106071e-06, 8.69426662e-06, 8.88747254e-06, 9.08067845e-06,\n",
       "        9.27388437e-06, 9.46709028e-06, 9.66029620e-06]),\n",
       " <a list of 50 Patch objects>)"
      ]
     },
     "execution_count": 16,
     "metadata": {},
     "output_type": "execute_result"
    },
    {
     "data": {
      "image/png": "[encoded data removed]",
      "text/plain": [
       "<matplotlib.figure.Figure at 0x7fc11048f4e0>"
      ]
     },
     "metadata": {},
     "output_type": "display_data"
    }
   ],
   "source": [
    "pyplot.hist(numpy.abs((x_fake_pt.grad.detach().numpy()-cupy.asnumpy(x_fake_dis.grad))).flatten(),bins=50)"
   ]
  },
  {
   "cell_type": "code",
   "execution_count": 17,
   "metadata": {},
   "outputs": [
    {
     "data": {
      "text/plain": [
       "tensor(0.0004)"
      ]
     },
     "execution_count": 17,
     "metadata": {},
     "output_type": "execute_result"
    }
   ],
   "source": [
    "(generator.l1.weight.grad-torch.from_numpy(cupy.asnumpy(gen.l1.W.grad))).abs().max()"
   ]
  },
  {
   "cell_type": "code",
   "execution_count": 18,
   "metadata": {},
   "outputs": [],
   "source": [
    "#d1={rename_param(n):torch.from_numpy(cupy.asnumpy(p.grad)) for n,p in gen.namedparams()}\n",
    "#d2={n:p.grad for n,p in generator.named_parameters()}\n",
    "d1={rename_param(n):torch.from_numpy(cupy.asnumpy(p.data)) for n,p in gen.namedparams()}\n",
    "d2={n:p.detach() for n,p in generator.named_parameters()}\n",
    "d1_dis={rename_param(n):torch.from_numpy(cupy.asnumpy(p.grad)) for n,p in dis.namedparams()}\n",
    "d2_dis={n.replace(\"_orig\",\"\"):p.grad.detach() for n,p in discriminator.named_parameters()}\n"
   ]
  },
  {
   "cell_type": "code",
   "execution_count": 30,
   "metadata": {},
   "outputs": [
    {
     "name": "stdout",
     "output_type": "stream",
     "text": [
      "block1.c1.bias 0.0007791388779878616\n",
      "block1.c1.weight 0.0006775555666536093\n",
      "block1.c2.bias 0.0013547074049711227\n",
      "block1.c2.weight 0.0002794871979858726\n",
      "block1.c_sc.bias 0.0013547074049711227\n",
      "block1.c_sc.weight 0.001232558162882924\n",
      "block2.c1.bias 0.0015672128647565842\n",
      "block2.c1.weight 0.00026404252275824547\n",
      "block2.c2.bias 0.0024119168519973755\n",
      "block2.c2.weight 0.00024983170442283154\n",
      "block2.c_sc.bias 0.0024119168519973755\n",
      "block2.c_sc.weight 0.00042765564285218716\n",
      "block3.c1.bias 0.003420155495405197\n",
      "block3.c1.weight 0.00033381395041942596\n",
      "block3.c2.bias 0.0035283993929624557\n",
      "block3.c2.weight 0.0002638082951307297\n",
      "block3.c_sc.bias 0.0035283993929624557\n",
      "block3.c_sc.weight 0.00039308564737439156\n",
      "block4.c1.bias 0.003069249913096428\n",
      "block4.c1.weight 0.00036834320053458214\n",
      "block4.c2.bias 0.005206878297030926\n",
      "block4.c2.weight 0.00024273386225104332\n",
      "block4.c_sc.bias 0.005206878297030926\n",
      "block4.c_sc.weight 0.0003629347775131464\n",
      "block5.c1.bias 0.004149998538196087\n",
      "block5.c1.weight 0.00025683443527668715\n",
      "block5.c2.bias 0.009894594550132751\n",
      "block5.c2.weight 0.0002342633088119328\n",
      "block5.c_sc.bias 0.009894594550132751\n",
      "block5.c_sc.weight 0.000416284310631454\n",
      "l6.bias 0.0\n",
      "l6.weight 0.0017629641806706786\n",
      "l_y.weight 0.00017972610658034682\n"
     ]
    }
   ],
   "source": [
    "if 0:\n",
    "    for k in d2.keys():\n",
    "        print (k, (d1[k]-d2[k]).abs().max().item())\n",
    "for k in d2_dis.keys():\n",
    "    print (k, ((d1_dis[k]-d2_dis[k])).abs().max().item())\n"
   ]
  },
  {
   "cell_type": "code",
   "execution_count": 294,
   "metadata": {},
   "outputs": [],
   "source": [
    "w1 = torch.from_numpy(cupy.asnumpy(dis.block1.c1.W.data))\n",
    "w1p = discriminator.block1.c1.weight_orig"
   ]
  },
  {
   "cell_type": "code",
   "execution_count": 297,
   "metadata": {},
   "outputs": [],
   "source": [
    "discriminator.l_y.weight.grad"
   ]
  },
  {
   "cell_type": "code",
   "execution_count": 302,
   "metadata": {},
   "outputs": [
    {
     "data": {
      "text/plain": [
       "Parameter containing:\n",
       "tensor([[-0.0609,  0.0047, -0.0527,  ...,  0.0266, -0.0586, -0.0585],\n",
       "        [ 0.0316,  0.0538,  0.0594,  ...,  0.0176,  0.0557, -0.0297],\n",
       "        [ 0.0340, -0.0482,  0.0441,  ..., -0.0511, -0.0395,  0.0480],\n",
       "        ...,\n",
       "        [ 0.0555, -0.0500,  0.0130,  ...,  0.0271, -0.0242,  0.0649],\n",
       "        [-0.0039,  0.0191,  0.0384,  ..., -0.0446,  0.0346,  0.0069],\n",
       "        [ 0.0207,  0.0595,  0.0058,  ..., -0.0051,  0.0692, -0.0268]],\n",
       "       requires_grad=True)"
      ]
     },
     "execution_count": 302,
     "metadata": {},
     "output_type": "execute_result"
    }
   ],
   "source": [
    "discriminator.l_y.weight_orig"
   ]
  },
  {
   "cell_type": "code",
   "execution_count": 304,
   "metadata": {},
   "outputs": [
    {
     "data": {
      "text/plain": [
       "array([[-1.21666773e-07, -1.55477142e-06,  2.75258299e-06, ...,\n",
       "        -1.11887368e-06, -3.99904678e-07, -2.05176798e-06],\n",
       "       [-4.66111402e-07, -6.37804260e-06,  1.13380202e-05, ...,\n",
       "        -4.61741001e-06, -1.63507707e-06, -8.38596770e-06],\n",
       "       [-2.45945813e-07,  3.37552134e-04,  1.86965117e-04, ...,\n",
       "         5.09122328e-04,  1.20224526e-04, -5.13478244e-06],\n",
       "       ...,\n",
       "       [-2.38444898e-07, -1.54652080e-04, -2.45209294e-03, ...,\n",
       "        -1.20616937e-03, -8.77308878e-07, -4.49840854e-06],\n",
       "       [-3.07902575e-08,  4.42194985e-04,  1.40629549e-04, ...,\n",
       "         5.16218017e-04,  1.36921872e-05, -9.38616381e-07],\n",
       "       [ 7.07746750e-10,  1.40232288e-07, -2.62664599e-07, ...,\n",
       "         1.09480219e-07,  3.43806832e-08,  1.75452996e-07]], dtype=float32)"
      ]
     },
     "execution_count": 304,
     "metadata": {},
     "output_type": "execute_result"
    }
   ],
   "source": [
    "dis.l_y.W.grad"
   ]
  },
  {
   "cell_type": "code",
   "execution_count": 231,
   "metadata": {},
   "outputs": [
    {
     "data": {
      "text/plain": [
       "3"
      ]
     },
     "execution_count": 231,
     "metadata": {},
     "output_type": "execute_result"
    }
   ],
   "source": [
    "\"\"\"cuda.elementwise(\n",
    "                'T grad, T lr, T one_minus_beta1, T one_minus_beta2, T eps, \\\n",
    "                 T eta, T weight_decay_rate',\n",
    "                'T param, T m, T v',\n",
    "                '''m += one_minus_beta1 * (grad - m);\n",
    "                   v += one_minus_beta2 * (grad * grad - v);\n",
    "                   param -= eta * (lr * m / (sqrt(v) + eps) +\n",
    "                                   weight_decay_rate * param);''',\n",
    "                'adam')(grad, self.lr, 1 - hp.beta1,\n",
    "                        1 - hp.beta2, hp.eps,\n",
    "                        hp.eta, hp.weight_decay_rate,\n",
    "                        param.data, self.state['m'], self.state['v'])\n",
    "\"\"\"\n",
    "opt_gen.t"
   ]
  },
  {
   "cell_type": "code",
   "execution_count": 233,
   "metadata": {},
   "outputs": [
    {
     "data": {
      "text/plain": [
       "tensor([[-1.9993, -1.9817,  1.9994,  ..., -1.9981, -1.9995,  1.9985],\n",
       "        [ 1.9988, -1.9993, -1.9945,  ...,  1.9971, -1.9986,  1.9993],\n",
       "        [ 1.9995,  1.9963, -1.9994,  ..., -1.9858,  1.9997, -1.9998],\n",
       "        ...,\n",
       "        [ 1.9990, -1.9996, -1.9996,  ...,  1.9998,  1.9995, -1.9988],\n",
       "        [-1.9997, -1.9995, -1.9981,  ...,  1.9996, -1.9994,  1.9974],\n",
       "        [-1.9971,  1.9996, -1.9974,  ...,  1.9993, -1.9990,  1.9981]])"
      ]
     },
     "execution_count": 233,
     "metadata": {},
     "output_type": "execute_result"
    }
   ],
   "source": [
    "(gen_sd['l1.weight']-generator.l1.weight).detach()*1e4"
   ]
  },
  {
   "cell_type": "code",
   "execution_count": 234,
   "metadata": {},
   "outputs": [
    {
     "data": {
      "text/plain": [
       "tensor([[ 8.9767e-05, -3.9523e-05, -5.5865e-05,  ...,  1.4618e-04,\n",
       "          9.0046e-05, -4.2478e-05],\n",
       "        [-2.8712e-04,  1.1143e-04, -9.5926e-07,  ...,  2.2854e-05,\n",
       "          1.2320e-04, -2.3707e-04],\n",
       "        [-1.0593e-04, -2.7025e-04,  5.0901e-05,  ...,  5.2853e-06,\n",
       "         -2.2207e-04,  2.7944e-04],\n",
       "        ...,\n",
       "        [-5.8498e-05,  2.2891e-04,  1.9101e-04,  ..., -2.3433e-04,\n",
       "         -2.0764e-04,  4.6424e-05],\n",
       "        [ 3.0076e-04,  1.3821e-04,  6.0045e-05,  ..., -1.6438e-04,\n",
       "          2.3528e-04, -1.0314e-04],\n",
       "        [ 3.7167e-05, -2.3817e-04,  2.9986e-05,  ..., -6.4427e-05,\n",
       "          2.3743e-04, -2.2781e-05]])"
      ]
     },
     "execution_count": 234,
     "metadata": {},
     "output_type": "execute_result"
    }
   ],
   "source": [
    "d1['l1.weight']-gen_sd['l1.weight']"
   ]
  },
  {
   "cell_type": "code",
   "execution_count": 246,
   "metadata": {},
   "outputs": [
    {
     "data": {
      "text/plain": [
       "1"
      ]
     },
     "execution_count": 246,
     "metadata": {},
     "output_type": "execute_result"
    }
   ],
   "source": [
    "opt_gen.t"
   ]
  },
  {
   "cell_type": "code",
   "execution_count": 247,
   "metadata": {},
   "outputs": [
    {
     "data": {
      "text/plain": [
       "tensor([[-0.0070,  0.0041, -0.0149,  ...,  0.0065,  0.0005, -0.0021],\n",
       "        [-0.0011,  0.0221,  0.0254,  ..., -0.0001,  0.0219, -0.0070],\n",
       "        [-0.0190, -0.0059,  0.0034,  ...,  0.0252,  0.0122, -0.0133],\n",
       "        ...,\n",
       "        [ 0.0265,  0.0131,  0.0068,  ..., -0.0262,  0.0065, -0.0002],\n",
       "        [-0.0049, -0.0202,  0.0136,  ..., -0.0203, -0.0221, -0.0061],\n",
       "        [ 0.0115,  0.0043, -0.0049,  ..., -0.0329, -0.0094, -0.0147]])"
      ]
     },
     "execution_count": 247,
     "metadata": {},
     "output_type": "execute_result"
    }
   ],
   "source": [
    "torch.from_numpy(cupy.asnumpy(gen.l1.W.data))-d1['l1.weight']"
   ]
  },
  {
   "cell_type": "code",
   "execution_count": 248,
   "metadata": {},
   "outputs": [
    {
     "data": {
      "text/plain": [
       "tensor([[-0.0070,  0.0041, -0.0149,  ...,  0.0065,  0.0005, -0.0025],\n",
       "        [-0.0011,  0.0221,  0.0254,  ..., -0.0001,  0.0219, -0.0070],\n",
       "        [-0.0190, -0.0055,  0.0034,  ...,  0.0252,  0.0122, -0.0133],\n",
       "        ...,\n",
       "        [ 0.0265,  0.0131,  0.0068,  ..., -0.0262,  0.0065, -0.0002],\n",
       "        [-0.0049, -0.0202,  0.0136,  ..., -0.0203, -0.0221, -0.0061],\n",
       "        [ 0.0115,  0.0043, -0.0049,  ..., -0.0325, -0.0094, -0.0147]],\n",
       "       grad_fn=<ThSubBackward>)"
      ]
     },
     "execution_count": 248,
     "metadata": {},
     "output_type": "execute_result"
    }
   ],
   "source": [
    "generator.l1.weight-d1['l1.weight']"
   ]
  },
  {
   "cell_type": "code",
   "execution_count": 259,
   "metadata": {},
   "outputs": [
    {
     "data": {
      "text/plain": [
       "(tensor(0.0188, grad_fn=<SelectBackward>), tensor(-0.0134))"
      ]
     },
     "execution_count": 259,
     "metadata": {},
     "output_type": "execute_result"
    }
   ],
   "source": [
    "generator.l1.weight[1,2], torch.from_numpy(cupy.asnumpy(gen.l1.W.data))[2,1]"
   ]
  },
  {
   "cell_type": "code",
   "execution_count": 276,
   "metadata": {},
   "outputs": [
    {
     "data": {
      "text/plain": [
       "(tensor(-0.0000), tensor(5.3151e-11))"
      ]
     },
     "execution_count": 276,
     "metadata": {},
     "output_type": "execute_result"
    }
   ],
   "source": [
    "opt_gen_pt.state_dict()['state'][hash(generator.l1.weight)]['exp_avg'][2,1],opt_gen_pt.state_dict()['state'][hash(generator.l1.weight)]['exp_avg_sq'][2,1]"
   ]
  }
 ],
 "metadata": {
  "kernelspec": {
   "display_name": "Python 3",
   "language": "python",
   "name": "python3"
  },
  "language_info": {
   "codemirror_mode": {
    "name": "ipython",
    "version": 3
   },
   "file_extension": ".py",
   "mimetype": "text/x-python",
   "name": "python",
   "nbconvert_exporter": "python",
   "pygments_lexer": "ipython3",
   "version": "3.6.5rc1"
  }
 },
 "nbformat": 4,
 "nbformat_minor": 2
}
