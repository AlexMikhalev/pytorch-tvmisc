{
 "cells": [
  {
   "cell_type": "markdown",
   "metadata": {
    "cell_id": "9E07F4EBB8944BAA91324353F87C1A61"
   },
   "source": [
    "# Improved Training of Wasserstein GANs in Pytorch\n",
    "\n",
    "Pytorch implementation by Thomas Viehmann, tv@lernapparat.de\n",
    "\n",
    "## Introduction\n",
    "\n",
    "Wasserstein GANs have been introduced in [Arjovsky et al: Wasserstein GAN](https://arxiv.org/abs/1701.07875).\n",
    "There also is a [great summary of the article by Alex Irpan](http://www.alexirpan.com/2017/02/22/wasserstein-gan.html).\n",
    "\n",
    "Recently, [Gulrajani et al: Improved Training of Wasserstein GANs](https://www.arxiv.org/abs/1704.00028) added a relaxed constraint to the original Wasserstein GAN discriminator training objective. I wrote my take at what is up with that in [Geometric Intuition on Improved Wasserstein GANs](https://lernapparat.de/improved-wasserstein-gan/) and also thought that maybe one could take a step back - namely stick with $|f(x)-f(y)| = |x-y|$ instead of testing $|\\nabla f| = 1$ (see the [*Semi-Improved Training of Wasserstein GANs* section](https://lernapparat.de/improved-wasserstein-gan/) for details or the [Notebook](https://github.com/t-vi/pytorch-tvmisc/blob/master/wasserstein-distance/Semi-Improved_Training_of_Wasserstein_GAN.ipynb)).\n",
    "\n",
    "Now that pytorch gained support for second derivatives, I wanted to also implement the improved training method directly.\n",
    "MyLeakyReLU below needs torch.clamp with second derivatives, which is in [this github pull request](https://github.com/pytorch/pytorch/pull/1514).\n",
    "\n",
    "## Acknowledgement\n",
    "\n",
    "This is based on the semi-improved notebook, which borrows heavily from the code accompanying the two papers, namely\n",
    "- https://github.com/martinarjovsky/WassersteinGAN (initialisation, loss calculation and training loop)\n",
    "- https://github.com/igul222/improved_wgan_training (toy problem data generation and network structure, visualization)\n",
    "\n",
    "Please see the licenses there and refer to the above when using their code.\n",
    "I applaud publishing the code with the papers. This was crucial in enabling this exercise.\n",
    "\n",
    "## Code, code, everone wants code!\n",
    "\n",
    "Here it is. I have left the semi-improved code in there, too. Setting `lipschitz_constraint = 3` gets you the improved version."
   ]
  },
  {
   "cell_type": "code",
   "execution_count": 1,
   "metadata": {
    "cell_id": "E891EBA623F548959E5D5309A902D3C6",
    "collapsed": true
   },
   "outputs": [],
   "source": [
    "# import everything\n",
    "import random\n",
    "import torch\n",
    "import torch.nn as nn\n",
    "import torch.backends.cudnn as cudnn\n",
    "import torch.optim as optim\n",
    "from torch.autograd import Variable\n",
    "import os\n",
    "import numpy\n",
    "import sklearn.datasets\n",
    "\n",
    "from matplotlib import pyplot\n",
    "%matplotlib inline\n",
    "import IPython"
   ]
  },
  {
   "cell_type": "code",
   "execution_count": 2,
   "metadata": {
    "cell_id": "D87035FD9B864129B2DD8E76869FB2F1"
   },
   "outputs": [
    {
     "name": "stdout",
     "output_type": "stream",
     "text": [
      "Random Seed:  15042017\n"
     ]
    }
   ],
   "source": [
    "# set up parameters, a blend of Wasserstein GAN and Improved Training's code\n",
    "\n",
    "lipschitz_constraint = 3 # 0: original WGAN, 1: semi-improved method 1\n",
    "                         # 2: semi-improved method 2\n",
    "                         # 3: improved method with gradient penalty\n",
    "penalty_weight = 0.1     # penalty weight term lambda \n",
    "\n",
    "opt_dataset = '25gaussians' # 8gaussians | swissroll | 25gaussians\n",
    "opt_niter = 5000\n",
    "opt_batchSize=256\n",
    "opt_lrD = 0.00005 # learning rate for Critic, default=0.00005\n",
    "opt_lrG = 0.00005 # learning rate for Generator, default=0.00005\n",
    "opt_beta1=0.5 # beta1 for adam. default=0.5\n",
    "opt_cuda = True\n",
    "opt_clamp_lower = -0.01 #default -0.01\n",
    "opt_clamp_upper =  0.01 #default  0.01\n",
    "opt_Diters = 5 # number of D iters per each G iter\n",
    "opt_adam = False  # Whether to use adam (default False is rmsprop)\n",
    "opt_prefix = None # whether to write images (=prefix of type string) or show in notebook (=None)\n",
    "\n",
    "opt_manualSeed = 15042017\n",
    "print(\"Random Seed: \", opt_manualSeed)\n",
    "random.seed(opt_manualSeed)\n",
    "numpy.random.seed(opt_manualSeed)\n",
    "torch.manual_seed(opt_manualSeed)\n",
    "cudnn.benchmark = True"
   ]
  },
  {
   "cell_type": "code",
   "execution_count": 3,
   "metadata": {
    "cell_id": "5FF6184244104ADF9D0A3A8FADFD2290",
    "collapsed": true
   },
   "outputs": [],
   "source": [
    "# set up variables (torch administrativa)\n",
    "\n",
    "input = torch.FloatTensor(opt_batchSize, 2)\n",
    "input2 = torch.FloatTensor(opt_batchSize, 2)\n",
    "interp_alpha = torch.FloatTensor(opt_batchSize, 1)\n",
    "noise = torch.FloatTensor(opt_batchSize, 2)\n",
    "fixed_noise = torch.FloatTensor(opt_batchSize, 2).normal_(0, 1)\n",
    "one = torch.FloatTensor([1])\n",
    "mone = one * -1\n",
    "\n",
    "if opt_cuda:\n",
    "    input = input.cuda()\n",
    "    input2 = input2.cuda()\n",
    "    interp_alpha = interp_alpha.cuda()\n",
    "    one, mone = one.cuda(), mone.cuda()\n",
    "    noise, fixed_noise = noise.cuda(), fixed_noise.cuda()\n",
    "\n",
    "input = Variable(input)\n",
    "input2 = Variable(input2)\n",
    "noise = Variable(noise)\n",
    "interp_alpha = Variable(interp_alpha)\n",
    "fixed_noise = Variable(fixed_noise)\n"
   ]
  },
  {
   "cell_type": "code",
   "execution_count": 4,
   "metadata": {
    "cell_id": "765ABDEF6838476D8DA9E408AEAB3805",
    "collapsed": true
   },
   "outputs": [],
   "source": [
    "# Dataset generator largely form Improved Training of Wasserstein GAN code (see link above)\n",
    "def inf_train_gen(DATASET='8gaussians', BATCH_SIZE=opt_batchSize):\n",
    "    if DATASET == '25gaussians':\n",
    "        dataset = []\n",
    "        for i in range(100000//25):\n",
    "            for x in range(-2, 3):\n",
    "                for y in range(-2, 3):\n",
    "                    point = numpy.random.randn(2)*0.05\n",
    "                    point[0] += 2*x\n",
    "                    point[1] += 2*y\n",
    "                    dataset.append(point)\n",
    "        dataset = numpy.array(dataset, dtype='float32')\n",
    "        numpy.random.shuffle(dataset)\n",
    "        dataset /= 2.828 # stdev\n",
    "        while True:\n",
    "            for i in range(len(dataset)//BATCH_SIZE):\n",
    "                yield torch.from_numpy(dataset[i*BATCH_SIZE:(i+1)*BATCH_SIZE])\n",
    "\n",
    "    elif DATASET == 'swissroll':\n",
    "\n",
    "        while True:\n",
    "            data = sklearn.datasets.make_swiss_roll(\n",
    "                n_samples=BATCH_SIZE, \n",
    "                noise=0.25\n",
    "            )[0]\n",
    "            data = data.astype('float32')[:, [0, 2]]\n",
    "            data /= 7.5 # stdev plus a little\n",
    "            yield torch.from_numpy(data)\n",
    "\n",
    "    elif DATASET == '8gaussians':\n",
    "    \n",
    "        scale = 2.\n",
    "        centers = [\n",
    "            (1,0),\n",
    "            (-1,0),\n",
    "            (0,1),\n",
    "            (0,-1),\n",
    "            (1./numpy.sqrt(2), 1./numpy.sqrt(2)),\n",
    "            (1./numpy.sqrt(2), -1./numpy.sqrt(2)),\n",
    "            (-1./numpy.sqrt(2), 1./numpy.sqrt(2)),\n",
    "            (-1./numpy.sqrt(2), -1./numpy.sqrt(2))\n",
    "        ]\n",
    "        centers = [(scale*x,scale*y) for x,y in centers]\n",
    "        while True:\n",
    "            dataset = []\n",
    "            for i in range(BATCH_SIZE):\n",
    "                point = numpy.random.randn(2)*.02\n",
    "                center = random.choice(centers)\n",
    "                point[0] += center[0]\n",
    "                point[1] += center[1]\n",
    "                dataset.append(point)\n",
    "            dataset = numpy.array(dataset, dtype='float32')\n",
    "            dataset /= 1.414 # stdev\n",
    "            yield torch.from_numpy(dataset)\n",
    "\n"
   ]
  },
  {
   "cell_type": "code",
   "execution_count": 5,
   "metadata": {
    "cell_id": "C048557935C34DA89C5177D169F18C7E",
    "collapsed": true
   },
   "outputs": [],
   "source": [
    "# Generates and saves a plot of the true distribution, the generator, and the\n",
    "# critic.\n",
    "# largely form Improved Training of Wasserstein GAN code (see link above)\n",
    "class ImageGenerator:\n",
    "  def __init__(self, netG, netD, prefix='frame', noise_dim=2):\n",
    "    self.prefix = prefix\n",
    "    self.frame_index = 1\n",
    "    self.noise_dim = noise_dim\n",
    "    self.netG = netG\n",
    "    self.netD = netD\n",
    "    \n",
    "  def __call__(self, true_dist,losses):\n",
    "    N_POINTS = 128\n",
    "    RANGE = 3\n",
    "\n",
    "    points = numpy.zeros((N_POINTS, N_POINTS, 2), dtype='float32')\n",
    "    points[:,:,0] = numpy.linspace(-RANGE, RANGE, N_POINTS)[:,None]\n",
    "    points[:,:,1] = numpy.linspace(-RANGE, RANGE, N_POINTS)[None,:]\n",
    "    points = points.reshape((-1,2))\n",
    "    points = Variable(torch.from_numpy(points).cuda())\n",
    "    \n",
    "    noise = torch.FloatTensor().resize_(batch_size, 2)\n",
    "    noise.normal_(0, 1)\n",
    "    noise = Variable(noise.cuda())\n",
    "\n",
    "    fake = self.netG(noise)\n",
    "    samples = fake.data.cpu().numpy()\n",
    "\n",
    "    disc_points = self.netD(points)\n",
    "    \n",
    "    disc_map = disc_points.data.cpu().numpy()\n",
    "    \n",
    "    pyplot.clf()\n",
    "    if self.prefix is None:\n",
    "        #pyplot.suplots(nrows=1, ncols=2)\n",
    "        pyplot.subplot(1,2,1)\n",
    "    x = y = numpy.linspace(-RANGE, RANGE, N_POINTS)\n",
    "    pyplot.contour(x,y,disc_map.reshape((len(x), len(y))))\n",
    "\n",
    "    true_dist = true_dist.cpu().numpy()\n",
    "    pyplot.scatter(true_dist[:, 0], true_dist[:, 1], c='orange',marker='+')\n",
    "    pyplot.scatter(samples[:, 0],   samples[:, 1],   c='green', marker='+')\n",
    "    if self.prefix is not None:\n",
    "      pyplot.savefig(self.prefix+'{:05d}'.format(self.frame_index)+'.jpg')\n",
    "    else:\n",
    "      pyplot.subplot(1,2,2)\n",
    "      pyplot.plot(losses)\n",
    "      IPython.display.clear_output(wait=True)\n",
    "      IPython.display.display(pyplot.gcf())\n",
    "    self.frame_index += 1\n"
   ]
  },
  {
   "cell_type": "markdown",
   "metadata": {
    "cell_id": "D1D69F416D1348FE8F88FD8307B124A3",
    "collapsed": true
   },
   "source": [
    "Define the Generator and Critic, I use my own LeakyReLU until second derivatives are available for the standard one."
   ]
  },
  {
   "cell_type": "code",
   "execution_count": 6,
   "metadata": {
    "cell_id": "BBD450F7B0F846F99242E21B23678366",
    "collapsed": true
   },
   "outputs": [],
   "source": [
    "class MyLeakyReLU(nn.Module):\n",
    "    def __init__(self, negative_slope=0.01):\n",
    "        super(MyLeakyReLU, self).__init__()\n",
    "        self.negative_slope = negative_slope\n",
    "    def forward(self, x):\n",
    "        return torch.clamp(x, min=0.0)+torch.clamp(x, max=0.0)*self.negative_slope\n",
    "\n",
    "class ToyGAN_G(nn.Module):\n",
    "    def __init__(self, dim_hidden=512, dim_out=2, noise_dim=2):\n",
    "        super(ToyGAN_G, self).__init__()\n",
    "        self.dim_hidden, self.dim_out, self.noise_dim = dim_hidden, dim_out, noise_dim\n",
    "        self.net = nn.Sequential(\n",
    "            nn.Linear(noise_dim, dim_hidden),\n",
    "            MyLeakyReLU(),\n",
    "            nn.Linear(dim_hidden, dim_hidden),\n",
    "            MyLeakyReLU(),\n",
    "            nn.Linear(dim_hidden, dim_hidden),\n",
    "            MyLeakyReLU(),\n",
    "            nn.Linear(dim_hidden, dim_out)\n",
    "            )\n",
    "    def forward(self, x):\n",
    "        x = self.net(x)\n",
    "        return x\n",
    "\n",
    "class ToyGAN_D(nn.Module):\n",
    "    def __init__(self, dim_hidden=512, dim_gen_out=2):\n",
    "        super(ToyGAN_D, self).__init__()\n",
    "        self.dim_hidden, self.dim_gen_out = dim_hidden, dim_gen_out\n",
    "        self.net = nn.Sequential(\n",
    "            nn.Linear(dim_gen_out, dim_hidden),\n",
    "            MyLeakyReLU(),\n",
    "            nn.Linear(dim_hidden, dim_hidden),\n",
    "            MyLeakyReLU(),\n",
    "            nn.Linear(dim_hidden, dim_hidden),\n",
    "            MyLeakyReLU(),\n",
    "            nn.Linear(dim_hidden, 1)\n",
    "            )\n",
    "    def forward(self, x): #?\n",
    "        x = self.net(x)\n",
    "        return x\n"
   ]
  },
  {
   "cell_type": "markdown",
   "metadata": {
    "cell_id": "2DE3E3C9FDCF4B9287310F76605C3E99"
   },
   "source": [
    "Do the training (code largely taken from Wasserstein GAN code, see link above).\n",
    "As suspected in an earlier version, there was room for improvement in how to express the loss function in pytorch. A very warm thank you to Adam Paszke for showing the correct way to do it and \"live\" fixing a bug I hit (if you get `RuntimeError: Cublas_Sgemv only supports m, n, lda, incx, incyin the range 0 < [val] <= 2147483647` you need to update pytorch, too). (Edit: Apparently there also is a bug w.r.t. the output in Jupyter notebook. If the kernel crashes, you might try to convert the code to regular python instead.)"
   ]
  },
  {
   "cell_type": "code",
   "execution_count": 7,
   "metadata": {
    "cell_id": "7D33EB6F126244DC8D7E01CF800349CE"
   },
   "outputs": [
    {
     "name": "stdout",
     "output_type": "stream",
     "text": [
      "[4999/5000] Loss_D: -0.132736 Loss_G: 0.217619 Loss_D_real: 0.091837 Loss_D_fake 0.224573 Loss_lip 0.013760\n"
     ]
    },
    {
     "data": {
      "image/png": "[encoded data removed]",
      "text/plain": [
       "<matplotlib.figure.Figure at 0x7f3e31170b00>"
      ]
     },
     "metadata": {},
     "output_type": "display_data"
    }
   ],
   "source": [
    "data_generator = inf_train_gen(opt_dataset)\n",
    "netD = ToyGAN_D()\n",
    "netG = ToyGAN_G()\n",
    "netD.cuda()\n",
    "netG.cuda()\n",
    "\n",
    "generate_image = ImageGenerator(netG, netD, prefix=opt_prefix)\n",
    "\n",
    "if opt_adam:\n",
    "    optimizerD = optim.Adam(netD.parameters(), lr=opt_lrD, betas=(opt_beta1, 0.999))\n",
    "    optimizerG = optim.Adam(netG.parameters(), lr=opt_lrG, betas=(opt_beta1, 0.999))\n",
    "else:\n",
    "    optimizerD = optim.RMSprop(netD.parameters(), lr = opt_lrD)\n",
    "    optimizerG = optim.RMSprop(netG.parameters(), lr = opt_lrG)\n",
    "\n",
    "losses = []\n",
    "for batches in range(opt_niter):\n",
    "    ############################\n",
    "    # (1) Update D network\n",
    "    ###########################\n",
    "    for p in netD.parameters(): # reset requires_grad\n",
    "        p.requires_grad = True # they are set to False below in netG update\n",
    "\n",
    "    # train the discriminator Diters times\n",
    "    if batches < 25 or batches % 500 == 0:\n",
    "        Diters = 100\n",
    "    else:\n",
    "        Diters = opt_Diters\n",
    "    for j in range(Diters):\n",
    "\n",
    "        if lipschitz_constraint == 0:\n",
    "            # clamp parameters to a cube\n",
    "            for p in netD.parameters():\n",
    "                p.data.clamp_(opt_clamp_lower, opt_clamp_upper)\n",
    "\n",
    "        data = next(data_generator)\n",
    "\n",
    "        # train with real\n",
    "        real_cpu = data\n",
    "        netD.zero_grad()\n",
    "        batch_size = real_cpu.size(0)\n",
    "        input.data.resize_(real_cpu.size()).copy_(real_cpu)\n",
    "\n",
    "        errD_real_vec = netD(input)\n",
    "        errD_real = errD_real_vec.mean(0).view(1)\n",
    "        errD_real.backward(one, retain_variables=(lipschitz_constraint>0))\n",
    "\n",
    "        # train with fake\n",
    "        noise.data.resize_(batch_size, 2)\n",
    "        noise.data.normal_(0, 1)\n",
    "        fake = netG(noise)\n",
    "        input2.data.resize_(fake.data.size()).copy_(fake.data)\n",
    "        errD_fake_vec = netD(input2)\n",
    "        errD_fake = errD_fake_vec.mean(0).view(1)\n",
    "        errD_fake.backward(mone, retain_variables=(lipschitz_constraint>0))\n",
    "        errD = errD_real - errD_fake\n",
    "        # This is the semi-improved training penalty term to soft-enforce the Lipschitz 1 bound)\n",
    "        # Note how we conditionally retained variables and disabled the weight clipping above\n",
    "        if lipschitz_constraint == 1:\n",
    "            dist = ((input-input2)**2).sum(1)**0.5\n",
    "            lip_est = (errD_real_vec-errD_fake_vec).abs()/(dist+1e-8)\n",
    "            lip_loss = penalty_weight*((1.0-lip_est)**2).mean(0).view(1)\n",
    "            lip_loss.backward(one)\n",
    "            errD = errD + lip_loss\n",
    "        elif lipschitz_constraint == 2:\n",
    "            interp_alpha.data.resize_(batch_size, 1)\n",
    "            interp_alpha.data.uniform_()\n",
    "            dist = ((input-input2)**2).sum(1)**0.5\n",
    "            errD_interp_vec = netD(interp_alpha.expand_as(input)*input+(1-interp_alpha.expand_as(input))*input2)\n",
    "            lip_est1 = (errD_fake_vec-errD_interp_vec).abs()/(interp_alpha*dist+1e-8)\n",
    "            lip_est2 = (errD_real_vec-errD_interp_vec).abs()/((1.0-interp_alpha)*dist+1e-8)\n",
    "            lip_loss = 0.5*penalty_weight*(((1.0-lip_est1)**2).mean(0).view(1)+((1.0-lip_est2)**2).mean(0).view(1))\n",
    "            lip_loss.backward(one)\n",
    "            errD = errD + lip_loss\n",
    "        elif lipschitz_constraint == 3:           \n",
    "            interp_alpha.data.resize_(batch_size, 1)\n",
    "            interp_alpha.data.uniform_()\n",
    "            interp_points = Variable((interp_alpha.expand_as(input)*input+(1-interp_alpha.expand_as(input))*input2).data, requires_grad=True)\n",
    "            errD_interp_vec = netD(interp_points)\n",
    "            errD_gradient, = torch.autograd.grad(errD_interp_vec.sum(), interp_points, create_graph=True)\n",
    "            lip_est = (errD_gradient**2).view(batch_size,-1).sum(1)\n",
    "            lip_loss = penalty_weight*((1.0-lip_est)**2).mean(0).view(1)\n",
    "            lip_loss.backward()\n",
    "            \n",
    "        optimizerD.step()\n",
    "\n",
    "    ############################\n",
    "    # (2) Update G network\n",
    "    ###########################\n",
    "    for p in netD.parameters():\n",
    "        p.requires_grad = False # to avoid computation\n",
    "    netG.zero_grad()\n",
    "    # in case our last batch was the tail batch of the dataloader,\n",
    "    # make sure we feed a full batch of noise\n",
    "    noise.data.resize_(opt_batchSize, 2)\n",
    "    noise.data.normal_(0, 1)\n",
    "    fake = netG(noise)\n",
    "    errG = netD(fake)\n",
    "    errG = errG.mean(0).view(1)\n",
    "    errG.backward(one)\n",
    "    optimizerG.step()\n",
    "    if (batches+1) % 50 == 0:\n",
    "      losses.append(errD.data[0])\n",
    "      generate_image(data, losses)\n",
    "      print('[%d/%d] Loss_D: %f Loss_G: %f Loss_D_real: %f Loss_D_fake %f Loss_lip %f'\n",
    "        % (batches, opt_niter,\n",
    "        errD.data[0], errG.data[0], errD_real.data[0], errD_fake.data[0], lip_loss.data[0]))\n",
    "\n",
    "IPython.display.clear_output(wait=True)\n",
    "print('[%d/%d] Loss_D: %f Loss_G: %f Loss_D_real: %f Loss_D_fake %f Loss_lip %f'\n",
    "        % (batches, opt_niter,\n",
    "        errD.data[0], errG.data[0], errD_real.data[0], errD_fake.data[0], lip_loss.data[0]))\n"
   ]
  },
  {
   "cell_type": "markdown",
   "metadata": {
    "cell_id": "1E84A01FDEF64083873B362BD5734297"
   },
   "source": [
    "Things to try:\n",
    "- Systematically compare Improved vs. Semi-Improved Training of Wasserstein GAN.\n",
    "  I am still unsure whether it might be preferrable to have the Lipschitz constant tested directly rather than using the gradient.\n",
    "- Check whether Adam works reliably, too.\n",
    "- ~~Find out how to really do second derivatives in pytorch and improve the code.\n",
    "  In particular, only use one optimizer.~~ Thanks again, Adam Paszke!"
   ]
  },
  {
   "cell_type": "markdown",
   "metadata": {
    "cell_id": "53DFCB1FE3624BF997EDACBCCF8AEF37",
    "collapsed": true
   },
   "source": [
    "I appreciate your feedback: Thomas Viehmann, tv@lernapparat.de"
   ]
  },
  {
   "cell_type": "code",
   "execution_count": null,
   "metadata": {
    "cell_id": "94F7E4B0E66B48CF8A144A9F15360CC5",
    "collapsed": true
   },
   "outputs": [],
   "source": []
  }
 ],
 "metadata": {
  "kernelspec": {
   "display_name": "Python 3",
   "language": "python",
   "name": "python3"
  },
  "language_info": {
   "codemirror_mode": {
    "name": "ipython",
    "version": 3
   },
   "file_extension": ".py",
   "mimetype": "text/x-python",
   "name": "python",
   "nbconvert_exporter": "python",
   "pygments_lexer": "ipython3",
   "version": "3.5.3"
  }
 },
 "nbformat": 4,
 "nbformat_minor": 2
}
